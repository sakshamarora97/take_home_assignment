{
 "cells": [
  {
   "cell_type": "code",
   "execution_count": 12,
   "metadata": {},
   "outputs": [],
   "source": [
    "import pandas as pd\n",
    "import numpy as np\n",
    "import re"
   ]
  },
  {
   "cell_type": "code",
   "execution_count": 107,
   "metadata": {},
   "outputs": [],
   "source": [
    "pd.set_option('display.max_rows', 100)\n",
    "pd.set_option('display.max_columns', 100)\n",
    "pd.set_option('display.width', 100)"
   ]
  },
  {
   "cell_type": "code",
   "execution_count": 7,
   "metadata": {},
   "outputs": [
    {
     "data": {
      "text/plain": [
       "'d:\\\\Python Scripts\\\\Razor Group Take-Home'"
      ]
     },
     "execution_count": 7,
     "metadata": {},
     "output_type": "execute_result"
    }
   ],
   "source": [
    "import os\n",
    "os.getcwd()"
   ]
  },
  {
   "cell_type": "code",
   "execution_count": 8,
   "metadata": {},
   "outputs": [],
   "source": [
    "raw_data = pd.read_excel(\"Sample_Longlist_Data.xlsx\")"
   ]
  },
  {
   "cell_type": "code",
   "execution_count": 9,
   "metadata": {},
   "outputs": [
    {
     "name": "stdout",
     "output_type": "stream",
     "text": [
      "<class 'pandas.core.frame.DataFrame'>\n",
      "RangeIndex: 1839 entries, 0 to 1838\n",
      "Data columns (total 18 columns):\n",
      " #   Column                                             Non-Null Count  Dtype         \n",
      "---  ------                                             --------------  -----         \n",
      " 0   Date Added                                         1839 non-null   datetime64[ns]\n",
      " 1   category                                           1839 non-null   object        \n",
      " 2   sellerlink                                         1839 non-null   object        \n",
      " 3   sellerlink-url                                     1839 non-null   object        \n",
      " 4   sellerstorefront-url                               1839 non-null   object        \n",
      " 5   sellerproductcount                                 1513 non-null   object        \n",
      " 6   sellerratings                                      1411 non-null   object        \n",
      " 7   sellerdetails                                      1812 non-null   object        \n",
      " 8   seller business name                               1783 non-null   object        \n",
      " 9   businessaddress                                    1764 non-null   object        \n",
      " 10  Count of seller brands                             1839 non-null   int64         \n",
      " 11  Max % of negative seller ratings - last 30 days    1839 non-null   int64         \n",
      " 12  Max % of negative seller ratings - last 90 days    1839 non-null   int64         \n",
      " 13  Max % of negative seller ratings - last 12 months  1839 non-null   int64         \n",
      " 14  Hero Product 1 #ratings                            1839 non-null   int64         \n",
      " 15  Hero Product 2 #ratings                            1839 non-null   int64         \n",
      " 16  Sample brand name                                  1835 non-null   object        \n",
      " 17  Sample Brand URL                                   1839 non-null   object        \n",
      "dtypes: datetime64[ns](1), int64(6), object(11)\n",
      "memory usage: 258.7+ KB\n"
     ]
    }
   ],
   "source": [
    "raw_data.info()"
   ]
  },
  {
   "cell_type": "code",
   "execution_count": 10,
   "metadata": {},
   "outputs": [
    {
     "data": {
      "text/html": [
       "<div>\n",
       "<style scoped>\n",
       "    .dataframe tbody tr th:only-of-type {\n",
       "        vertical-align: middle;\n",
       "    }\n",
       "\n",
       "    .dataframe tbody tr th {\n",
       "        vertical-align: top;\n",
       "    }\n",
       "\n",
       "    .dataframe thead th {\n",
       "        text-align: right;\n",
       "    }\n",
       "</style>\n",
       "<table border=\"1\" class=\"dataframe\">\n",
       "  <thead>\n",
       "    <tr style=\"text-align: right;\">\n",
       "      <th></th>\n",
       "      <th>Date Added</th>\n",
       "      <th>category</th>\n",
       "      <th>sellerlink</th>\n",
       "      <th>sellerlink-url</th>\n",
       "      <th>sellerstorefront-url</th>\n",
       "      <th>sellerproductcount</th>\n",
       "      <th>sellerratings</th>\n",
       "      <th>sellerdetails</th>\n",
       "      <th>seller business name</th>\n",
       "      <th>businessaddress</th>\n",
       "      <th>Count of seller brands</th>\n",
       "      <th>Max % of negative seller ratings - last 30 days</th>\n",
       "      <th>Max % of negative seller ratings - last 90 days</th>\n",
       "      <th>Max % of negative seller ratings - last 12 months</th>\n",
       "      <th>Hero Product 1 #ratings</th>\n",
       "      <th>Hero Product 2 #ratings</th>\n",
       "      <th>Sample brand name</th>\n",
       "      <th>Sample Brand URL</th>\n",
       "    </tr>\n",
       "  </thead>\n",
       "  <tbody>\n",
       "    <tr>\n",
       "      <th>0</th>\n",
       "      <td>2020-11-15</td>\n",
       "      <td>Garden</td>\n",
       "      <td>Seller 1</td>\n",
       "      <td>Seller 1-link</td>\n",
       "      <td>Seller 1-storefrontlink</td>\n",
       "      <td>1-16 of over 100,000 results</td>\n",
       "      <td>88% positive in the last 12 months (118 ratings)</td>\n",
       "      <td>Lohas Living Inc James Mazzello US 845 3RD Ave...</td>\n",
       "      <td>Business Name:Lohas Living Inc</td>\n",
       "      <td>411 THEODORE FREMD AVESTE 206 SOUTHRyeNY10580-...</td>\n",
       "      <td>16</td>\n",
       "      <td>17</td>\n",
       "      <td>11</td>\n",
       "      <td>12</td>\n",
       "      <td>5873</td>\n",
       "      <td>4957</td>\n",
       "      <td>Visit the YAMAZAKI Store</td>\n",
       "      <td>https://www.amazon.de/-/en/stores/YAMAZAKI/pag...</td>\n",
       "    </tr>\n",
       "    <tr>\n",
       "      <th>1</th>\n",
       "      <td>2020-11-15</td>\n",
       "      <td>Garden</td>\n",
       "      <td>Seller 2</td>\n",
       "      <td>Seller 2-link</td>\n",
       "      <td>Seller 2-storefrontlink</td>\n",
       "      <td>NaN</td>\n",
       "      <td>90% positive in the last 12 months (566 ratings)</td>\n",
       "      <td>Herzlich Willkommen im Amazon Shop von 1a-Hand...</td>\n",
       "      <td>Business Name:1a-Handelsagentur</td>\n",
       "      <td>1a HandelsagenturLindenallee 2MalchowMecklenbu...</td>\n",
       "      <td>0</td>\n",
       "      <td>2</td>\n",
       "      <td>2</td>\n",
       "      <td>9</td>\n",
       "      <td>0</td>\n",
       "      <td>0</td>\n",
       "      <td>Visit the tesa Store</td>\n",
       "      <td>https://www.amazon.de/-/en/stores/tesa/page/12...</td>\n",
       "    </tr>\n",
       "    <tr>\n",
       "      <th>2</th>\n",
       "      <td>2020-11-15</td>\n",
       "      <td>Garden</td>\n",
       "      <td>Seller 3</td>\n",
       "      <td>Seller 3-link</td>\n",
       "      <td>Seller 3-storefrontlink</td>\n",
       "      <td>1-16 of over 2,000 results</td>\n",
       "      <td>85% positive in the last 12 months (75 ratings)</td>\n",
       "      <td>67878u6i7 is committed to providing each custo...</td>\n",
       "      <td>Business Name:nantongaohuanfangzhipinyouxiango...</td>\n",
       "      <td>zhongnanshijicheng27zhuang1410haochongchuanqun...</td>\n",
       "      <td>15</td>\n",
       "      <td>0</td>\n",
       "      <td>25</td>\n",
       "      <td>12</td>\n",
       "      <td>164</td>\n",
       "      <td>162</td>\n",
       "      <td>TXYFYP</td>\n",
       "      <td>https://www.amazon.de/-/en/s/ref=bl_dp_s_web_0...</td>\n",
       "    </tr>\n",
       "    <tr>\n",
       "      <th>3</th>\n",
       "      <td>2020-11-15</td>\n",
       "      <td>Garden</td>\n",
       "      <td>Seller 4</td>\n",
       "      <td>Seller 4-link</td>\n",
       "      <td>Seller 4-storefrontlink</td>\n",
       "      <td>1-16 of 123 results</td>\n",
       "      <td>NaN</td>\n",
       "      <td>7 days home life supermarket is committed to p...</td>\n",
       "      <td>Business Name:Zhengzhou Yaoqiong Trading Company</td>\n",
       "      <td>河南省中兴南路福禄街自贸试验区郑州片区（郑东）河南商会大厦1901室450000CN</td>\n",
       "      <td>1</td>\n",
       "      <td>0</td>\n",
       "      <td>0</td>\n",
       "      <td>0</td>\n",
       "      <td>0</td>\n",
       "      <td>0</td>\n",
       "      <td>SHIFENG</td>\n",
       "      <td>https://www.amazon.de/-/en/s/ref=bl_dp_s_web_0...</td>\n",
       "    </tr>\n",
       "    <tr>\n",
       "      <th>4</th>\n",
       "      <td>2020-11-15</td>\n",
       "      <td>Garden</td>\n",
       "      <td>Seller 5</td>\n",
       "      <td>Seller 5-link</td>\n",
       "      <td>Seller 5-storefrontlink</td>\n",
       "      <td>1-16 of over 1,000 results</td>\n",
       "      <td>81% positive in the last 12 months (52 ratings)</td>\n",
       "      <td>78 68yui678 is committed to providing each cus...</td>\n",
       "      <td>Business Name:shenzhenfeichangshangmeimaoyiyou...</td>\n",
       "      <td>minzhidadaoshaxialaocun94dongA901longhuaxinqus...</td>\n",
       "      <td>16</td>\n",
       "      <td>0</td>\n",
       "      <td>31</td>\n",
       "      <td>15</td>\n",
       "      <td>224</td>\n",
       "      <td>113</td>\n",
       "      <td>YUOKI99</td>\n",
       "      <td>https://www.amazon.de/-/en/s/ref=bl_dp_s_web_0...</td>\n",
       "    </tr>\n",
       "  </tbody>\n",
       "</table>\n",
       "</div>"
      ],
      "text/plain": [
       "  Date Added category sellerlink sellerlink-url     sellerstorefront-url  \\\n",
       "0 2020-11-15   Garden   Seller 1  Seller 1-link  Seller 1-storefrontlink   \n",
       "1 2020-11-15   Garden   Seller 2  Seller 2-link  Seller 2-storefrontlink   \n",
       "2 2020-11-15   Garden   Seller 3  Seller 3-link  Seller 3-storefrontlink   \n",
       "3 2020-11-15   Garden   Seller 4  Seller 4-link  Seller 4-storefrontlink   \n",
       "4 2020-11-15   Garden   Seller 5  Seller 5-link  Seller 5-storefrontlink   \n",
       "\n",
       "             sellerproductcount  \\\n",
       "0  1-16 of over 100,000 results   \n",
       "1                           NaN   \n",
       "2    1-16 of over 2,000 results   \n",
       "3           1-16 of 123 results   \n",
       "4    1-16 of over 1,000 results   \n",
       "\n",
       "                                      sellerratings  \\\n",
       "0  88% positive in the last 12 months (118 ratings)   \n",
       "1  90% positive in the last 12 months (566 ratings)   \n",
       "2   85% positive in the last 12 months (75 ratings)   \n",
       "3                                               NaN   \n",
       "4   81% positive in the last 12 months (52 ratings)   \n",
       "\n",
       "                                       sellerdetails  \\\n",
       "0  Lohas Living Inc James Mazzello US 845 3RD Ave...   \n",
       "1  Herzlich Willkommen im Amazon Shop von 1a-Hand...   \n",
       "2  67878u6i7 is committed to providing each custo...   \n",
       "3  7 days home life supermarket is committed to p...   \n",
       "4  78 68yui678 is committed to providing each cus...   \n",
       "\n",
       "                                seller business name  \\\n",
       "0                     Business Name:Lohas Living Inc   \n",
       "1                    Business Name:1a-Handelsagentur   \n",
       "2  Business Name:nantongaohuanfangzhipinyouxiango...   \n",
       "3   Business Name:Zhengzhou Yaoqiong Trading Company   \n",
       "4  Business Name:shenzhenfeichangshangmeimaoyiyou...   \n",
       "\n",
       "                                     businessaddress  Count of seller brands  \\\n",
       "0  411 THEODORE FREMD AVESTE 206 SOUTHRyeNY10580-...                      16   \n",
       "1  1a HandelsagenturLindenallee 2MalchowMecklenbu...                       0   \n",
       "2  zhongnanshijicheng27zhuang1410haochongchuanqun...                      15   \n",
       "3         河南省中兴南路福禄街自贸试验区郑州片区（郑东）河南商会大厦1901室450000CN                       1   \n",
       "4  minzhidadaoshaxialaocun94dongA901longhuaxinqus...                      16   \n",
       "\n",
       "   Max % of negative seller ratings - last 30 days  \\\n",
       "0                                               17   \n",
       "1                                                2   \n",
       "2                                                0   \n",
       "3                                                0   \n",
       "4                                                0   \n",
       "\n",
       "   Max % of negative seller ratings - last 90 days  \\\n",
       "0                                               11   \n",
       "1                                                2   \n",
       "2                                               25   \n",
       "3                                                0   \n",
       "4                                               31   \n",
       "\n",
       "   Max % of negative seller ratings - last 12 months  Hero Product 1 #ratings  \\\n",
       "0                                                 12                     5873   \n",
       "1                                                  9                        0   \n",
       "2                                                 12                      164   \n",
       "3                                                  0                        0   \n",
       "4                                                 15                      224   \n",
       "\n",
       "   Hero Product 2 #ratings         Sample brand name  \\\n",
       "0                     4957  Visit the YAMAZAKI Store   \n",
       "1                        0      Visit the tesa Store   \n",
       "2                      162                    TXYFYP   \n",
       "3                        0                   SHIFENG   \n",
       "4                      113                   YUOKI99   \n",
       "\n",
       "                                    Sample Brand URL  \n",
       "0  https://www.amazon.de/-/en/stores/YAMAZAKI/pag...  \n",
       "1  https://www.amazon.de/-/en/stores/tesa/page/12...  \n",
       "2  https://www.amazon.de/-/en/s/ref=bl_dp_s_web_0...  \n",
       "3  https://www.amazon.de/-/en/s/ref=bl_dp_s_web_0...  \n",
       "4  https://www.amazon.de/-/en/s/ref=bl_dp_s_web_0...  "
      ]
     },
     "execution_count": 10,
     "metadata": {},
     "output_type": "execute_result"
    }
   ],
   "source": [
    "#1839 entries\n",
    "#We have some missings in important variables like product count, ratings\n",
    "#Examining raw data to spot erroneous values and understand object formats better\n",
    "raw_data.head()"
   ]
  },
  {
   "cell_type": "code",
   "execution_count": 225,
   "metadata": {},
   "outputs": [],
   "source": [
    "##Pointers for cleaning data provided:\n",
    "# The column sellerproductcount gives you the count of products in the form '1-16 of over 100,000 results' , and\n",
    "# you can parse out the product count 100,000.\n",
    "# • sellerratings - This columns gives you the % and count of positive ratings (e.g. 88% positive in the last 12 months\n",
    "# (118 ratings) ) if parsed correctly.\n",
    "# • sellerdetails - You can use this text to parse out phone numbers, and email IDs of merchants, where available, so\n",
    "# our team can reach out to them.\n",
    "# • businessaddress - This will give you the business locations of the sellers. You can parse them to identify if a seller\n",
    "# is registered in the US , Germany (DE), or China (CN). Note that Razor does not acquire Chinese sellers at this\n",
    "# point, so you can use this data to exclude sellers in China from your analysis.\n",
    "# • Hero Product 1 #ratings and Hero Product 2 #ratings - these 2 columns give you the number of ratings of the 2\n",
    "# 'hero products' or bestselling products of this seller."
   ]
  },
  {
   "cell_type": "code",
   "execution_count": 11,
   "metadata": {},
   "outputs": [],
   "source": [
    "df_processed = raw_data.copy()"
   ]
  },
  {
   "cell_type": "code",
   "execution_count": null,
   "metadata": {},
   "outputs": [],
   "source": [
    "df_processed.drop_duplicates().shape"
   ]
  },
  {
   "cell_type": "code",
   "execution_count": 27,
   "metadata": {},
   "outputs": [],
   "source": [
    "def get_count(mystr):\n",
    "    val = re.search('(\\d*,*\\d*) results',mystr)\n",
    "    if val is None:\n",
    "        return 'Unable to parse'\n",
    "    else:\n",
    "        return val.group(0).replace(' results','').replace(\",\",\"\")"
   ]
  },
  {
   "cell_type": "code",
   "execution_count": 28,
   "metadata": {},
   "outputs": [],
   "source": [
    "df_processed['sellerproductcount_processed'] = df_processed['sellerproductcount'].astype(str).apply(get_count)"
   ]
  },
  {
   "cell_type": "code",
   "execution_count": 29,
   "metadata": {},
   "outputs": [
    {
     "data": {
      "text/html": [
       "<div>\n",
       "<style scoped>\n",
       "    .dataframe tbody tr th:only-of-type {\n",
       "        vertical-align: middle;\n",
       "    }\n",
       "\n",
       "    .dataframe tbody tr th {\n",
       "        vertical-align: top;\n",
       "    }\n",
       "\n",
       "    .dataframe thead th {\n",
       "        text-align: right;\n",
       "    }\n",
       "</style>\n",
       "<table border=\"1\" class=\"dataframe\">\n",
       "  <thead>\n",
       "    <tr style=\"text-align: right;\">\n",
       "      <th></th>\n",
       "      <th>sellerproductcount</th>\n",
       "      <th>sellerproductcount_processed</th>\n",
       "    </tr>\n",
       "  </thead>\n",
       "  <tbody>\n",
       "    <tr>\n",
       "      <th>0</th>\n",
       "      <td>1-16 of over 100,000 results</td>\n",
       "      <td>100000</td>\n",
       "    </tr>\n",
       "    <tr>\n",
       "      <th>1</th>\n",
       "      <td>NaN</td>\n",
       "      <td>Unable to parse</td>\n",
       "    </tr>\n",
       "    <tr>\n",
       "      <th>2</th>\n",
       "      <td>1-16 of over 2,000 results</td>\n",
       "      <td>2000</td>\n",
       "    </tr>\n",
       "    <tr>\n",
       "      <th>3</th>\n",
       "      <td>1-16 of 123 results</td>\n",
       "      <td>123</td>\n",
       "    </tr>\n",
       "    <tr>\n",
       "      <th>4</th>\n",
       "      <td>1-16 of over 1,000 results</td>\n",
       "      <td>1000</td>\n",
       "    </tr>\n",
       "    <tr>\n",
       "      <th>5</th>\n",
       "      <td>1-16 of 28 results</td>\n",
       "      <td>28</td>\n",
       "    </tr>\n",
       "    <tr>\n",
       "      <th>6</th>\n",
       "      <td>1-16 of over 4,000 results</td>\n",
       "      <td>4000</td>\n",
       "    </tr>\n",
       "    <tr>\n",
       "      <th>7</th>\n",
       "      <td>1-16 of over 3,000 results</td>\n",
       "      <td>3000</td>\n",
       "    </tr>\n",
       "    <tr>\n",
       "      <th>8</th>\n",
       "      <td>1-16 of 133 results</td>\n",
       "      <td>133</td>\n",
       "    </tr>\n",
       "    <tr>\n",
       "      <th>9</th>\n",
       "      <td>1-16 of over 3,000 results</td>\n",
       "      <td>3000</td>\n",
       "    </tr>\n",
       "  </tbody>\n",
       "</table>\n",
       "</div>"
      ],
      "text/plain": [
       "             sellerproductcount sellerproductcount_processed\n",
       "0  1-16 of over 100,000 results                       100000\n",
       "1                           NaN              Unable to parse\n",
       "2    1-16 of over 2,000 results                         2000\n",
       "3           1-16 of 123 results                          123\n",
       "4    1-16 of over 1,000 results                         1000\n",
       "5            1-16 of 28 results                           28\n",
       "6    1-16 of over 4,000 results                         4000\n",
       "7    1-16 of over 3,000 results                         3000\n",
       "8           1-16 of 133 results                          133\n",
       "9    1-16 of over 3,000 results                         3000"
      ]
     },
     "execution_count": 29,
     "metadata": {},
     "output_type": "execute_result"
    }
   ],
   "source": [
    "df_processed[['sellerproductcount','sellerproductcount_processed']].head(10)"
   ]
  },
  {
   "cell_type": "code",
   "execution_count": 36,
   "metadata": {},
   "outputs": [
    {
     "data": {
      "text/html": [
       "<div>\n",
       "<style scoped>\n",
       "    .dataframe tbody tr th:only-of-type {\n",
       "        vertical-align: middle;\n",
       "    }\n",
       "\n",
       "    .dataframe tbody tr th {\n",
       "        vertical-align: top;\n",
       "    }\n",
       "\n",
       "    .dataframe thead th {\n",
       "        text-align: right;\n",
       "    }\n",
       "</style>\n",
       "<table border=\"1\" class=\"dataframe\">\n",
       "  <thead>\n",
       "    <tr style=\"text-align: right;\">\n",
       "      <th></th>\n",
       "      <th>Date Added</th>\n",
       "      <th>category</th>\n",
       "      <th>sellerlink</th>\n",
       "      <th>sellerlink-url</th>\n",
       "      <th>sellerstorefront-url</th>\n",
       "      <th>sellerproductcount</th>\n",
       "      <th>sellerratings</th>\n",
       "      <th>sellerdetails</th>\n",
       "      <th>seller business name</th>\n",
       "      <th>businessaddress</th>\n",
       "      <th>Count of seller brands</th>\n",
       "      <th>Max % of negative seller ratings - last 30 days</th>\n",
       "      <th>Max % of negative seller ratings - last 90 days</th>\n",
       "      <th>Max % of negative seller ratings - last 12 months</th>\n",
       "      <th>Hero Product 1 #ratings</th>\n",
       "      <th>Hero Product 2 #ratings</th>\n",
       "      <th>Sample brand name</th>\n",
       "      <th>Sample Brand URL</th>\n",
       "      <th>sellerproductcount_processed</th>\n",
       "    </tr>\n",
       "  </thead>\n",
       "  <tbody>\n",
       "    <tr>\n",
       "      <th>1</th>\n",
       "      <td>2020-11-15</td>\n",
       "      <td>Garden</td>\n",
       "      <td>Seller 2</td>\n",
       "      <td>Seller 2-link</td>\n",
       "      <td>Seller 2-storefrontlink</td>\n",
       "      <td>NaN</td>\n",
       "      <td>90% positive in the last 12 months (566 ratings)</td>\n",
       "      <td>Herzlich Willkommen im Amazon Shop von 1a-Hand...</td>\n",
       "      <td>Business Name:1a-Handelsagentur</td>\n",
       "      <td>1a HandelsagenturLindenallee 2MalchowMecklenbu...</td>\n",
       "      <td>0</td>\n",
       "      <td>2</td>\n",
       "      <td>2</td>\n",
       "      <td>9</td>\n",
       "      <td>0</td>\n",
       "      <td>0</td>\n",
       "      <td>Visit the tesa Store</td>\n",
       "      <td>https://www.amazon.de/-/en/stores/tesa/page/12...</td>\n",
       "      <td>Unable to parse</td>\n",
       "    </tr>\n",
       "    <tr>\n",
       "      <th>19</th>\n",
       "      <td>2020-11-15</td>\n",
       "      <td>Garden</td>\n",
       "      <td>Seller 20</td>\n",
       "      <td>Seller 20-link</td>\n",
       "      <td>Seller 20-storefrontlink</td>\n",
       "      <td>NaN</td>\n",
       "      <td>76% positive in the last 12 months (3721 ratings)</td>\n",
       "      <td>Impressum: ABC-Schnäppchenmarkt GmbH \\n Jösser...</td>\n",
       "      <td>Business Name:ABC-Schnäppchenmarkt GmbH</td>\n",
       "      <td>Jösser Weg10Petershagen32469DE</td>\n",
       "      <td>0</td>\n",
       "      <td>18</td>\n",
       "      <td>20</td>\n",
       "      <td>20</td>\n",
       "      <td>0</td>\n",
       "      <td>0</td>\n",
       "      <td>Visit the TFA Dostmann Store</td>\n",
       "      <td>https://www.amazon.de/-/en/stores/TFA+Dostmann...</td>\n",
       "      <td>Unable to parse</td>\n",
       "    </tr>\n",
       "    <tr>\n",
       "      <th>21</th>\n",
       "      <td>2020-11-15</td>\n",
       "      <td>Garden</td>\n",
       "      <td>Seller 22</td>\n",
       "      <td>Seller 22-link</td>\n",
       "      <td>Seller 22-storefrontlink</td>\n",
       "      <td>NaN</td>\n",
       "      <td>92% positive in the last 12 months (181 ratings)</td>\n",
       "      <td>Firmenwortlaut: GURU2016GmbH\\n Geschäftsführun...</td>\n",
       "      <td>Business Name:GURU 2016 GmbH</td>\n",
       "      <td>BAUGURU, GURU 2016 GmbHWarenannahme Vogl Bauma...</td>\n",
       "      <td>0</td>\n",
       "      <td>0</td>\n",
       "      <td>7</td>\n",
       "      <td>6</td>\n",
       "      <td>0</td>\n",
       "      <td>0</td>\n",
       "      <td>Visit the tesa Store</td>\n",
       "      <td>https://www.amazon.de/-/en/stores/tesa/page/12...</td>\n",
       "      <td>Unable to parse</td>\n",
       "    </tr>\n",
       "    <tr>\n",
       "      <th>27</th>\n",
       "      <td>2020-11-15</td>\n",
       "      <td>Garden</td>\n",
       "      <td>Seller 28</td>\n",
       "      <td>Seller 28-link</td>\n",
       "      <td>Seller 28-storefrontlink</td>\n",
       "      <td>NaN</td>\n",
       "      <td>86% positive in the last 12 months (21 ratings)</td>\n",
       "      <td>Budify is committed to providing each customer...</td>\n",
       "      <td>Business Name:Adrián Aparicio Vera</td>\n",
       "      <td>Calle Poeta Manuel Benítez Carrasco 32, 3 ASEV...</td>\n",
       "      <td>0</td>\n",
       "      <td>0</td>\n",
       "      <td>0</td>\n",
       "      <td>10</td>\n",
       "      <td>0</td>\n",
       "      <td>0</td>\n",
       "      <td>Visit the Wolfcraft Store</td>\n",
       "      <td>https://www.amazon.de/-/en/stores/Wolfcraft+Gm...</td>\n",
       "      <td>Unable to parse</td>\n",
       "    </tr>\n",
       "    <tr>\n",
       "      <th>29</th>\n",
       "      <td>2020-11-15</td>\n",
       "      <td>Garden</td>\n",
       "      <td>Seller 30</td>\n",
       "      <td>Seller 30-link</td>\n",
       "      <td>Seller 30-storefrontlink</td>\n",
       "      <td>NaN</td>\n",
       "      <td>75% positive in the last 12 months (596 ratings)</td>\n",
       "      <td>Dataanalyst is committed to providing each cus...</td>\n",
       "      <td>Business Name:Shenzhenshi Longdan Keji Youxian...</td>\n",
       "      <td>Longgangqu Bantianjiedao NankengshequWuhedadao...</td>\n",
       "      <td>0</td>\n",
       "      <td>27</td>\n",
       "      <td>30</td>\n",
       "      <td>23</td>\n",
       "      <td>0</td>\n",
       "      <td>0</td>\n",
       "      <td>vidaXL</td>\n",
       "      <td>https://www.amazon.de/-/en/vidaXL/b/ref=bl_dp_...</td>\n",
       "      <td>Unable to parse</td>\n",
       "    </tr>\n",
       "  </tbody>\n",
       "</table>\n",
       "</div>"
      ],
      "text/plain": [
       "   Date Added category sellerlink  sellerlink-url      sellerstorefront-url  \\\n",
       "1  2020-11-15   Garden   Seller 2   Seller 2-link   Seller 2-storefrontlink   \n",
       "19 2020-11-15   Garden  Seller 20  Seller 20-link  Seller 20-storefrontlink   \n",
       "21 2020-11-15   Garden  Seller 22  Seller 22-link  Seller 22-storefrontlink   \n",
       "27 2020-11-15   Garden  Seller 28  Seller 28-link  Seller 28-storefrontlink   \n",
       "29 2020-11-15   Garden  Seller 30  Seller 30-link  Seller 30-storefrontlink   \n",
       "\n",
       "   sellerproductcount                                      sellerratings  \\\n",
       "1                 NaN   90% positive in the last 12 months (566 ratings)   \n",
       "19                NaN  76% positive in the last 12 months (3721 ratings)   \n",
       "21                NaN   92% positive in the last 12 months (181 ratings)   \n",
       "27                NaN    86% positive in the last 12 months (21 ratings)   \n",
       "29                NaN   75% positive in the last 12 months (596 ratings)   \n",
       "\n",
       "                                        sellerdetails  \\\n",
       "1   Herzlich Willkommen im Amazon Shop von 1a-Hand...   \n",
       "19  Impressum: ABC-Schnäppchenmarkt GmbH \\n Jösser...   \n",
       "21  Firmenwortlaut: GURU2016GmbH\\n Geschäftsführun...   \n",
       "27  Budify is committed to providing each customer...   \n",
       "29  Dataanalyst is committed to providing each cus...   \n",
       "\n",
       "                                 seller business name  \\\n",
       "1                     Business Name:1a-Handelsagentur   \n",
       "19            Business Name:ABC-Schnäppchenmarkt GmbH   \n",
       "21                       Business Name:GURU 2016 GmbH   \n",
       "27                 Business Name:Adrián Aparicio Vera   \n",
       "29  Business Name:Shenzhenshi Longdan Keji Youxian...   \n",
       "\n",
       "                                      businessaddress  Count of seller brands  \\\n",
       "1   1a HandelsagenturLindenallee 2MalchowMecklenbu...                       0   \n",
       "19                     Jösser Weg10Petershagen32469DE                       0   \n",
       "21  BAUGURU, GURU 2016 GmbHWarenannahme Vogl Bauma...                       0   \n",
       "27  Calle Poeta Manuel Benítez Carrasco 32, 3 ASEV...                       0   \n",
       "29  Longgangqu Bantianjiedao NankengshequWuhedadao...                       0   \n",
       "\n",
       "    Max % of negative seller ratings - last 30 days  \\\n",
       "1                                                 2   \n",
       "19                                               18   \n",
       "21                                                0   \n",
       "27                                                0   \n",
       "29                                               27   \n",
       "\n",
       "    Max % of negative seller ratings - last 90 days  \\\n",
       "1                                                 2   \n",
       "19                                               20   \n",
       "21                                                7   \n",
       "27                                                0   \n",
       "29                                               30   \n",
       "\n",
       "    Max % of negative seller ratings - last 12 months  \\\n",
       "1                                                   9   \n",
       "19                                                 20   \n",
       "21                                                  6   \n",
       "27                                                 10   \n",
       "29                                                 23   \n",
       "\n",
       "    Hero Product 1 #ratings  Hero Product 2 #ratings  \\\n",
       "1                         0                        0   \n",
       "19                        0                        0   \n",
       "21                        0                        0   \n",
       "27                        0                        0   \n",
       "29                        0                        0   \n",
       "\n",
       "               Sample brand name  \\\n",
       "1           Visit the tesa Store   \n",
       "19  Visit the TFA Dostmann Store   \n",
       "21          Visit the tesa Store   \n",
       "27     Visit the Wolfcraft Store   \n",
       "29                        vidaXL   \n",
       "\n",
       "                                     Sample Brand URL  \\\n",
       "1   https://www.amazon.de/-/en/stores/tesa/page/12...   \n",
       "19  https://www.amazon.de/-/en/stores/TFA+Dostmann...   \n",
       "21  https://www.amazon.de/-/en/stores/tesa/page/12...   \n",
       "27  https://www.amazon.de/-/en/stores/Wolfcraft+Gm...   \n",
       "29  https://www.amazon.de/-/en/vidaXL/b/ref=bl_dp_...   \n",
       "\n",
       "   sellerproductcount_processed  \n",
       "1               Unable to parse  \n",
       "19              Unable to parse  \n",
       "21              Unable to parse  \n",
       "27              Unable to parse  \n",
       "29              Unable to parse  "
      ]
     },
     "execution_count": 36,
     "metadata": {},
     "output_type": "execute_result"
    }
   ],
   "source": [
    "df_processed.loc[df_processed['sellerproductcount_processed'] == 'Unable to parse'].head()"
   ]
  },
  {
   "cell_type": "code",
   "execution_count": 35,
   "metadata": {},
   "outputs": [
    {
     "data": {
      "text/plain": [
       "326"
      ]
     },
     "execution_count": 35,
     "metadata": {},
     "output_type": "execute_result"
    }
   ],
   "source": [
    "df_processed['sellerproductcount'].isna().sum()"
   ]
  },
  {
   "cell_type": "code",
   "execution_count": null,
   "metadata": {},
   "outputs": [],
   "source": [
    "#Only 326 are unable to parse which are missing - proceeding to next step \n",
    "## SELLER RATINGS PROCESSING"
   ]
  },
  {
   "cell_type": "code",
   "execution_count": 45,
   "metadata": {},
   "outputs": [
    {
     "data": {
      "text/plain": [
       "0    88% positive in the last 12 months (118 ratings)\n",
       "1    90% positive in the last 12 months (566 ratings)\n",
       "2     85% positive in the last 12 months (75 ratings)\n",
       "3                                                 NaN\n",
       "4     81% positive in the last 12 months (52 ratings)\n",
       "Name: sellerratings, dtype: object"
      ]
     },
     "execution_count": 45,
     "metadata": {},
     "output_type": "execute_result"
    }
   ],
   "source": [
    "df_processed['sellerratings'].head()"
   ]
  },
  {
   "cell_type": "code",
   "execution_count": 51,
   "metadata": {},
   "outputs": [],
   "source": [
    "def get_rating_perc(mystr):\n",
    "    val = re.search('(\\d*)% positive',mystr)\n",
    "    if val is None:\n",
    "        return 'Unable to parse'\n",
    "    else:\n",
    "        return val.group(0).replace(' positive','').replace(\"%\",\"\")\n",
    "\n",
    "def get_rating_count(mystr):\n",
    "    val = re.search('(\\d*) ratings',mystr)\n",
    "    if val is None:\n",
    "        return 'Unable to parse'\n",
    "    else:\n",
    "        return val.group(0).replace(' ratings','')"
   ]
  },
  {
   "cell_type": "code",
   "execution_count": 52,
   "metadata": {},
   "outputs": [],
   "source": [
    "df_processed['sellerratings_perc_processed'] = df_processed['sellerratings'].astype(str).apply(get_rating_perc)"
   ]
  },
  {
   "cell_type": "code",
   "execution_count": 53,
   "metadata": {},
   "outputs": [],
   "source": [
    "df_processed['sellerratings_count_processed'] = df_processed['sellerratings'].astype(str).apply(get_rating_count)"
   ]
  },
  {
   "cell_type": "code",
   "execution_count": 54,
   "metadata": {},
   "outputs": [
    {
     "data": {
      "text/plain": [
       "428"
      ]
     },
     "execution_count": 54,
     "metadata": {},
     "output_type": "execute_result"
    }
   ],
   "source": [
    "df_processed['sellerratings'].isna().sum()"
   ]
  },
  {
   "cell_type": "code",
   "execution_count": 55,
   "metadata": {},
   "outputs": [
    {
     "data": {
      "text/plain": [
       "428"
      ]
     },
     "execution_count": 55,
     "metadata": {},
     "output_type": "execute_result"
    }
   ],
   "source": [
    "(df_processed['sellerratings_perc_processed']=='Unable to parse').sum()"
   ]
  },
  {
   "cell_type": "code",
   "execution_count": 56,
   "metadata": {},
   "outputs": [
    {
     "data": {
      "text/plain": [
       "428"
      ]
     },
     "execution_count": 56,
     "metadata": {},
     "output_type": "execute_result"
    }
   ],
   "source": [
    "(df_processed['sellerratings_count_processed']=='Unable to parse').sum()"
   ]
  },
  {
   "cell_type": "code",
   "execution_count": 57,
   "metadata": {},
   "outputs": [
    {
     "data": {
      "text/html": [
       "<div>\n",
       "<style scoped>\n",
       "    .dataframe tbody tr th:only-of-type {\n",
       "        vertical-align: middle;\n",
       "    }\n",
       "\n",
       "    .dataframe tbody tr th {\n",
       "        vertical-align: top;\n",
       "    }\n",
       "\n",
       "    .dataframe thead th {\n",
       "        text-align: right;\n",
       "    }\n",
       "</style>\n",
       "<table border=\"1\" class=\"dataframe\">\n",
       "  <thead>\n",
       "    <tr style=\"text-align: right;\">\n",
       "      <th></th>\n",
       "      <th>sellerratings</th>\n",
       "      <th>sellerratings_perc_processed</th>\n",
       "      <th>sellerratings_count_processed</th>\n",
       "    </tr>\n",
       "  </thead>\n",
       "  <tbody>\n",
       "    <tr>\n",
       "      <th>0</th>\n",
       "      <td>88% positive in the last 12 months (118 ratings)</td>\n",
       "      <td>88</td>\n",
       "      <td>118</td>\n",
       "    </tr>\n",
       "    <tr>\n",
       "      <th>1</th>\n",
       "      <td>90% positive in the last 12 months (566 ratings)</td>\n",
       "      <td>90</td>\n",
       "      <td>566</td>\n",
       "    </tr>\n",
       "    <tr>\n",
       "      <th>2</th>\n",
       "      <td>85% positive in the last 12 months (75 ratings)</td>\n",
       "      <td>85</td>\n",
       "      <td>75</td>\n",
       "    </tr>\n",
       "    <tr>\n",
       "      <th>3</th>\n",
       "      <td>NaN</td>\n",
       "      <td>Unable to parse</td>\n",
       "      <td>Unable to parse</td>\n",
       "    </tr>\n",
       "    <tr>\n",
       "      <th>4</th>\n",
       "      <td>81% positive in the last 12 months (52 ratings)</td>\n",
       "      <td>81</td>\n",
       "      <td>52</td>\n",
       "    </tr>\n",
       "    <tr>\n",
       "      <th>5</th>\n",
       "      <td>NaN</td>\n",
       "      <td>Unable to parse</td>\n",
       "      <td>Unable to parse</td>\n",
       "    </tr>\n",
       "    <tr>\n",
       "      <th>6</th>\n",
       "      <td>NaN</td>\n",
       "      <td>Unable to parse</td>\n",
       "      <td>Unable to parse</td>\n",
       "    </tr>\n",
       "    <tr>\n",
       "      <th>7</th>\n",
       "      <td>NaN</td>\n",
       "      <td>Unable to parse</td>\n",
       "      <td>Unable to parse</td>\n",
       "    </tr>\n",
       "    <tr>\n",
       "      <th>8</th>\n",
       "      <td>100% positive lifetime (4 total ratings)</td>\n",
       "      <td>100</td>\n",
       "      <td></td>\n",
       "    </tr>\n",
       "    <tr>\n",
       "      <th>9</th>\n",
       "      <td>NaN</td>\n",
       "      <td>Unable to parse</td>\n",
       "      <td>Unable to parse</td>\n",
       "    </tr>\n",
       "    <tr>\n",
       "      <th>10</th>\n",
       "      <td>100% positive lifetime (3 total ratings)</td>\n",
       "      <td>100</td>\n",
       "      <td></td>\n",
       "    </tr>\n",
       "    <tr>\n",
       "      <th>11</th>\n",
       "      <td>63% positive lifetime (8 total ratings)</td>\n",
       "      <td>63</td>\n",
       "      <td></td>\n",
       "    </tr>\n",
       "    <tr>\n",
       "      <th>12</th>\n",
       "      <td>0% positive lifetime (1 total ratings)</td>\n",
       "      <td>0</td>\n",
       "      <td></td>\n",
       "    </tr>\n",
       "    <tr>\n",
       "      <th>13</th>\n",
       "      <td>NaN</td>\n",
       "      <td>Unable to parse</td>\n",
       "      <td>Unable to parse</td>\n",
       "    </tr>\n",
       "    <tr>\n",
       "      <th>14</th>\n",
       "      <td>97% positive in the last 12 months (116 ratings)</td>\n",
       "      <td>97</td>\n",
       "      <td>116</td>\n",
       "    </tr>\n",
       "    <tr>\n",
       "      <th>15</th>\n",
       "      <td>NaN</td>\n",
       "      <td>Unable to parse</td>\n",
       "      <td>Unable to parse</td>\n",
       "    </tr>\n",
       "    <tr>\n",
       "      <th>16</th>\n",
       "      <td>100% positive lifetime (2 total ratings)</td>\n",
       "      <td>100</td>\n",
       "      <td></td>\n",
       "    </tr>\n",
       "    <tr>\n",
       "      <th>17</th>\n",
       "      <td>NaN</td>\n",
       "      <td>Unable to parse</td>\n",
       "      <td>Unable to parse</td>\n",
       "    </tr>\n",
       "    <tr>\n",
       "      <th>18</th>\n",
       "      <td>67% positive lifetime (9 total ratings)</td>\n",
       "      <td>67</td>\n",
       "      <td></td>\n",
       "    </tr>\n",
       "    <tr>\n",
       "      <th>19</th>\n",
       "      <td>76% positive in the last 12 months (3721 ratings)</td>\n",
       "      <td>76</td>\n",
       "      <td>3721</td>\n",
       "    </tr>\n",
       "  </tbody>\n",
       "</table>\n",
       "</div>"
      ],
      "text/plain": [
       "                                        sellerratings  \\\n",
       "0    88% positive in the last 12 months (118 ratings)   \n",
       "1    90% positive in the last 12 months (566 ratings)   \n",
       "2     85% positive in the last 12 months (75 ratings)   \n",
       "3                                                 NaN   \n",
       "4     81% positive in the last 12 months (52 ratings)   \n",
       "5                                                 NaN   \n",
       "6                                                 NaN   \n",
       "7                                                 NaN   \n",
       "8            100% positive lifetime (4 total ratings)   \n",
       "9                                                 NaN   \n",
       "10           100% positive lifetime (3 total ratings)   \n",
       "11            63% positive lifetime (8 total ratings)   \n",
       "12             0% positive lifetime (1 total ratings)   \n",
       "13                                                NaN   \n",
       "14   97% positive in the last 12 months (116 ratings)   \n",
       "15                                                NaN   \n",
       "16           100% positive lifetime (2 total ratings)   \n",
       "17                                                NaN   \n",
       "18            67% positive lifetime (9 total ratings)   \n",
       "19  76% positive in the last 12 months (3721 ratings)   \n",
       "\n",
       "   sellerratings_perc_processed sellerratings_count_processed  \n",
       "0                            88                           118  \n",
       "1                            90                           566  \n",
       "2                            85                            75  \n",
       "3               Unable to parse               Unable to parse  \n",
       "4                            81                            52  \n",
       "5               Unable to parse               Unable to parse  \n",
       "6               Unable to parse               Unable to parse  \n",
       "7               Unable to parse               Unable to parse  \n",
       "8                           100                                \n",
       "9               Unable to parse               Unable to parse  \n",
       "10                          100                                \n",
       "11                           63                                \n",
       "12                            0                                \n",
       "13              Unable to parse               Unable to parse  \n",
       "14                           97                           116  \n",
       "15              Unable to parse               Unable to parse  \n",
       "16                          100                                \n",
       "17              Unable to parse               Unable to parse  \n",
       "18                           67                                \n",
       "19                           76                          3721  "
      ]
     },
     "execution_count": 57,
     "metadata": {},
     "output_type": "execute_result"
    }
   ],
   "source": [
    "#Only NAs are missing\n",
    "df_processed[[\"sellerratings\",\"sellerratings_perc_processed\",\"sellerratings_count_processed\"]].head(20)"
   ]
  },
  {
   "cell_type": "code",
   "execution_count": 59,
   "metadata": {},
   "outputs": [
    {
     "data": {
      "text/plain": [
       "'Lohas Living Inc James Mazzello US 845 3RD Ave Fl 6 New York NY 10022-6630 +1208-964-6807  Email Address:jadgemaello@gmail.com James Mazzello  US 845 3RD Ave Fl 6 New York NY 10022-6630 +1208-964-6807 EIN:\\xa030-0961431 \\nThe European Commission provides for an Online Dispute Resolution Platform, which you can access here: https://ec.europa.eu/consumers/odr/\\n\\nPlease see the following link for the nationally appointed Alternative Dispute Resolution bodies contact details: https://webgate.ec.europa.eu/od...'"
      ]
     },
     "execution_count": 59,
     "metadata": {},
     "output_type": "execute_result"
    }
   ],
   "source": [
    "df_processed['sellerdetails'][0]"
   ]
  },
  {
   "cell_type": "code",
   "execution_count": 66,
   "metadata": {},
   "outputs": [
    {
     "data": {
      "text/plain": [
       "'Herzlich Willkommen im Amazon Shop von 1a-Handelsagentur. Für Fragen stehen wir Ihnen gerne unter der 039932-829721 zur Verfügung. Sie können auch direkt eine E-Mail an info@1a-handelsagentur.de schreiben. Anschrift\\n1a-handelsagentur.de\\nAndre Burmeister\\nLindenallee 2\\n17213 Malchow\\xa0Kontakt\\nTel.: 039932 - 829721\\xa0\\nFax.: 039932 – 81417\\xa0\\nE-Mail: info@1a-handelsagentur.de\\nInternet: www.1a-handelsagentur.de\\n\\nUmsatzsteueridentnummer: DE 223758473 \\nWir berechnen Ihnen folgende Versandkosten:(DE) Deutschland 0,00 E...'"
      ]
     },
     "execution_count": 66,
     "metadata": {},
     "output_type": "execute_result"
    }
   ],
   "source": [
    "df_processed['sellerdetails'][1]"
   ]
  },
  {
   "cell_type": "code",
   "execution_count": 61,
   "metadata": {},
   "outputs": [
    {
     "data": {
      "text/plain": [
       "'67878u6i7 is committed to providing each customer with the highest standard of customer service.'"
      ]
     },
     "execution_count": 61,
     "metadata": {},
     "output_type": "execute_result"
    }
   ],
   "source": [
    "df_processed['sellerdetails'][2]"
   ]
  },
  {
   "cell_type": "code",
   "execution_count": 70,
   "metadata": {},
   "outputs": [
    {
     "data": {
      "text/plain": [
       "'Impressum KTC Tec GmbH Herforder Straße 240 32120 Hiddenhausen Deutschland Telefon: 05221 - 93 915 90 Mail: info@ktc-tec.de Geschäftsführer: Kamil Thomas Cichon Handelsregister: Amtsgericht Bad Oeynhausen, HRB 15405 Umsatzsteuer-Identifikationsnummer: DE284159049 Die Europäische Kommission stellt eine Plattform zur Online-Streitbeilegung (OS) bereit, die Sie hier finden ec.europa.eu/consumers/odr/.Wir sind bereit, an einem außergerichtlichen Schlichtungsverfahren vor einer Verbraucherschlichtung...'"
      ]
     },
     "execution_count": 70,
     "metadata": {},
     "output_type": "execute_result"
    }
   ],
   "source": [
    "df_processed['sellerdetails'][200]"
   ]
  },
  {
   "cell_type": "code",
   "execution_count": 73,
   "metadata": {},
   "outputs": [],
   "source": [
    "def get_email(mystr):\n",
    "    val = re.search('[a-z0-9\\.\\-+_]+@[a-z0-9\\.\\-+_]+\\.[a-z]+',mystr)\n",
    "    if val is None:\n",
    "        return \"Unable to parse\"\n",
    "    else:\n",
    "        return val.group(0)"
   ]
  },
  {
   "cell_type": "code",
   "execution_count": 74,
   "metadata": {},
   "outputs": [],
   "source": [
    "df_processed['sellerdetails_email_processed'] = df_processed['sellerdetails'].astype(str).apply(get_email)"
   ]
  },
  {
   "cell_type": "code",
   "execution_count": 75,
   "metadata": {},
   "outputs": [
    {
     "data": {
      "text/plain": [
       "0         jadgemaello@gmail.com\n",
       "1     info@1a-handelsagentur.de\n",
       "2               Unable to parse\n",
       "3               Unable to parse\n",
       "4               Unable to parse\n",
       "5               Unable to parse\n",
       "6               Unable to parse\n",
       "7               Unable to parse\n",
       "8               Unable to parse\n",
       "9               Unable to parse\n",
       "10              Unable to parse\n",
       "11              Unable to parse\n",
       "12              Unable to parse\n",
       "13              Unable to parse\n",
       "14       webmaster@9pm-store.de\n",
       "15              Unable to parse\n",
       "16              Unable to parse\n",
       "17              Unable to parse\n",
       "18              Unable to parse\n",
       "19             abc-markt@web.de\n",
       "Name: sellerdetails_email_processed, dtype: object"
      ]
     },
     "execution_count": 75,
     "metadata": {},
     "output_type": "execute_result"
    }
   ],
   "source": [
    "df_processed['sellerdetails_email_processed'].head(20)"
   ]
  },
  {
   "cell_type": "code",
   "execution_count": 79,
   "metadata": {},
   "outputs": [
    {
     "data": {
      "text/plain": [
       "'beilinqutaiyilumanchengguoji3haolou4lou10602shixianshishanxisheng710000CN'"
      ]
     },
     "execution_count": 79,
     "metadata": {},
     "output_type": "execute_result"
    }
   ],
   "source": [
    "df_processed['businessaddress'][15]"
   ]
  },
  {
   "cell_type": "code",
   "execution_count": 80,
   "metadata": {},
   "outputs": [],
   "source": [
    "df_processed['businessaddress_processed'] = df_processed['businessaddress'].astype(str).apply(lambda x: x[-2:])"
   ]
  },
  {
   "cell_type": "code",
   "execution_count": 82,
   "metadata": {},
   "outputs": [
    {
     "data": {
      "text/plain": [
       "0       US\n",
       "1       DE\n",
       "2       CN\n",
       "5       an\n",
       "20      IE\n",
       "21      AT\n",
       "27      ES\n",
       "55      PL\n",
       "65      GB\n",
       "67      IT\n",
       "78      FR\n",
       "131     SE\n",
       "187     HK\n",
       "206     NL\n",
       "250     TH\n",
       "256     AU\n",
       "309     BE\n",
       "311     JP\n",
       "388     CZ\n",
       "600     IN\n",
       "680     PT\n",
       "1784    CH\n",
       "Name: businessaddress_processed, dtype: object"
      ]
     },
     "execution_count": 82,
     "metadata": {},
     "output_type": "execute_result"
    }
   ],
   "source": [
    "df_processed['businessaddress_processed'].drop_duplicates()"
   ]
  },
  {
   "cell_type": "code",
   "execution_count": 83,
   "metadata": {},
   "outputs": [
    {
     "data": {
      "text/plain": [
       "5       NaN\n",
       "57      NaN\n",
       "72      NaN\n",
       "73      NaN\n",
       "99      NaN\n",
       "       ... \n",
       "1768    NaN\n",
       "1772    NaN\n",
       "1798    NaN\n",
       "1813    NaN\n",
       "1828    NaN\n",
       "Name: businessaddress, Length: 75, dtype: object"
      ]
     },
     "execution_count": 83,
     "metadata": {},
     "output_type": "execute_result"
    }
   ],
   "source": [
    "df_processed.loc[df_processed['businessaddress_processed']=='an','businessaddress']"
   ]
  },
  {
   "cell_type": "code",
   "execution_count": 84,
   "metadata": {},
   "outputs": [],
   "source": [
    "df_processed['businessaddress_processed'] = np.where(df_processed['businessaddress_processed']=='an',np.nan,df_processed['businessaddress_processed'])"
   ]
  },
  {
   "cell_type": "code",
   "execution_count": 85,
   "metadata": {},
   "outputs": [
    {
     "data": {
      "text/plain": [
       "0        US\n",
       "1        DE\n",
       "2        CN\n",
       "5       NaN\n",
       "20       IE\n",
       "21       AT\n",
       "27       ES\n",
       "55       PL\n",
       "65       GB\n",
       "67       IT\n",
       "78       FR\n",
       "131      SE\n",
       "187      HK\n",
       "206      NL\n",
       "250      TH\n",
       "256      AU\n",
       "309      BE\n",
       "311      JP\n",
       "388      CZ\n",
       "600      IN\n",
       "680      PT\n",
       "1784     CH\n",
       "Name: businessaddress_processed, dtype: object"
      ]
     },
     "execution_count": 85,
     "metadata": {},
     "output_type": "execute_result"
    }
   ],
   "source": [
    "df_processed['businessaddress_processed'].drop_duplicates()"
   ]
  },
  {
   "cell_type": "code",
   "execution_count": 86,
   "metadata": {},
   "outputs": [
    {
     "data": {
      "text/html": [
       "<div>\n",
       "<style scoped>\n",
       "    .dataframe tbody tr th:only-of-type {\n",
       "        vertical-align: middle;\n",
       "    }\n",
       "\n",
       "    .dataframe tbody tr th {\n",
       "        vertical-align: top;\n",
       "    }\n",
       "\n",
       "    .dataframe thead th {\n",
       "        text-align: right;\n",
       "    }\n",
       "</style>\n",
       "<table border=\"1\" class=\"dataframe\">\n",
       "  <thead>\n",
       "    <tr style=\"text-align: right;\">\n",
       "      <th></th>\n",
       "      <th>Date Added</th>\n",
       "      <th>category</th>\n",
       "      <th>sellerlink</th>\n",
       "      <th>sellerlink-url</th>\n",
       "      <th>sellerstorefront-url</th>\n",
       "      <th>sellerproductcount</th>\n",
       "      <th>sellerratings</th>\n",
       "      <th>sellerdetails</th>\n",
       "      <th>seller business name</th>\n",
       "      <th>businessaddress</th>\n",
       "      <th>...</th>\n",
       "      <th>Max % of negative seller ratings - last 12 months</th>\n",
       "      <th>Hero Product 1 #ratings</th>\n",
       "      <th>Hero Product 2 #ratings</th>\n",
       "      <th>Sample brand name</th>\n",
       "      <th>Sample Brand URL</th>\n",
       "      <th>sellerproductcount_processed</th>\n",
       "      <th>sellerratings_perc_processed</th>\n",
       "      <th>sellerratings_count_processed</th>\n",
       "      <th>sellerdetails_email_processed</th>\n",
       "      <th>businessaddress_processed</th>\n",
       "    </tr>\n",
       "  </thead>\n",
       "  <tbody>\n",
       "    <tr>\n",
       "      <th>0</th>\n",
       "      <td>2020-11-15</td>\n",
       "      <td>Garden</td>\n",
       "      <td>Seller 1</td>\n",
       "      <td>Seller 1-link</td>\n",
       "      <td>Seller 1-storefrontlink</td>\n",
       "      <td>1-16 of over 100,000 results</td>\n",
       "      <td>88% positive in the last 12 months (118 ratings)</td>\n",
       "      <td>Lohas Living Inc James Mazzello US 845 3RD Ave...</td>\n",
       "      <td>Business Name:Lohas Living Inc</td>\n",
       "      <td>411 THEODORE FREMD AVESTE 206 SOUTHRyeNY10580-...</td>\n",
       "      <td>...</td>\n",
       "      <td>12</td>\n",
       "      <td>5873</td>\n",
       "      <td>4957</td>\n",
       "      <td>Visit the YAMAZAKI Store</td>\n",
       "      <td>https://www.amazon.de/-/en/stores/YAMAZAKI/pag...</td>\n",
       "      <td>100000</td>\n",
       "      <td>88</td>\n",
       "      <td>118</td>\n",
       "      <td>jadgemaello@gmail.com</td>\n",
       "      <td>US</td>\n",
       "    </tr>\n",
       "    <tr>\n",
       "      <th>1</th>\n",
       "      <td>2020-11-15</td>\n",
       "      <td>Garden</td>\n",
       "      <td>Seller 2</td>\n",
       "      <td>Seller 2-link</td>\n",
       "      <td>Seller 2-storefrontlink</td>\n",
       "      <td>NaN</td>\n",
       "      <td>90% positive in the last 12 months (566 ratings)</td>\n",
       "      <td>Herzlich Willkommen im Amazon Shop von 1a-Hand...</td>\n",
       "      <td>Business Name:1a-Handelsagentur</td>\n",
       "      <td>1a HandelsagenturLindenallee 2MalchowMecklenbu...</td>\n",
       "      <td>...</td>\n",
       "      <td>9</td>\n",
       "      <td>0</td>\n",
       "      <td>0</td>\n",
       "      <td>Visit the tesa Store</td>\n",
       "      <td>https://www.amazon.de/-/en/stores/tesa/page/12...</td>\n",
       "      <td>Unable to parse</td>\n",
       "      <td>90</td>\n",
       "      <td>566</td>\n",
       "      <td>info@1a-handelsagentur.de</td>\n",
       "      <td>DE</td>\n",
       "    </tr>\n",
       "    <tr>\n",
       "      <th>2</th>\n",
       "      <td>2020-11-15</td>\n",
       "      <td>Garden</td>\n",
       "      <td>Seller 3</td>\n",
       "      <td>Seller 3-link</td>\n",
       "      <td>Seller 3-storefrontlink</td>\n",
       "      <td>1-16 of over 2,000 results</td>\n",
       "      <td>85% positive in the last 12 months (75 ratings)</td>\n",
       "      <td>67878u6i7 is committed to providing each custo...</td>\n",
       "      <td>Business Name:nantongaohuanfangzhipinyouxiango...</td>\n",
       "      <td>zhongnanshijicheng27zhuang1410haochongchuanqun...</td>\n",
       "      <td>...</td>\n",
       "      <td>12</td>\n",
       "      <td>164</td>\n",
       "      <td>162</td>\n",
       "      <td>TXYFYP</td>\n",
       "      <td>https://www.amazon.de/-/en/s/ref=bl_dp_s_web_0...</td>\n",
       "      <td>2000</td>\n",
       "      <td>85</td>\n",
       "      <td>75</td>\n",
       "      <td>Unable to parse</td>\n",
       "      <td>CN</td>\n",
       "    </tr>\n",
       "    <tr>\n",
       "      <th>3</th>\n",
       "      <td>2020-11-15</td>\n",
       "      <td>Garden</td>\n",
       "      <td>Seller 4</td>\n",
       "      <td>Seller 4-link</td>\n",
       "      <td>Seller 4-storefrontlink</td>\n",
       "      <td>1-16 of 123 results</td>\n",
       "      <td>NaN</td>\n",
       "      <td>7 days home life supermarket is committed to p...</td>\n",
       "      <td>Business Name:Zhengzhou Yaoqiong Trading Company</td>\n",
       "      <td>河南省中兴南路福禄街自贸试验区郑州片区（郑东）河南商会大厦1901室450000CN</td>\n",
       "      <td>...</td>\n",
       "      <td>0</td>\n",
       "      <td>0</td>\n",
       "      <td>0</td>\n",
       "      <td>SHIFENG</td>\n",
       "      <td>https://www.amazon.de/-/en/s/ref=bl_dp_s_web_0...</td>\n",
       "      <td>123</td>\n",
       "      <td>Unable to parse</td>\n",
       "      <td>Unable to parse</td>\n",
       "      <td>Unable to parse</td>\n",
       "      <td>CN</td>\n",
       "    </tr>\n",
       "    <tr>\n",
       "      <th>4</th>\n",
       "      <td>2020-11-15</td>\n",
       "      <td>Garden</td>\n",
       "      <td>Seller 5</td>\n",
       "      <td>Seller 5-link</td>\n",
       "      <td>Seller 5-storefrontlink</td>\n",
       "      <td>1-16 of over 1,000 results</td>\n",
       "      <td>81% positive in the last 12 months (52 ratings)</td>\n",
       "      <td>78 68yui678 is committed to providing each cus...</td>\n",
       "      <td>Business Name:shenzhenfeichangshangmeimaoyiyou...</td>\n",
       "      <td>minzhidadaoshaxialaocun94dongA901longhuaxinqus...</td>\n",
       "      <td>...</td>\n",
       "      <td>15</td>\n",
       "      <td>224</td>\n",
       "      <td>113</td>\n",
       "      <td>YUOKI99</td>\n",
       "      <td>https://www.amazon.de/-/en/s/ref=bl_dp_s_web_0...</td>\n",
       "      <td>1000</td>\n",
       "      <td>81</td>\n",
       "      <td>52</td>\n",
       "      <td>Unable to parse</td>\n",
       "      <td>CN</td>\n",
       "    </tr>\n",
       "  </tbody>\n",
       "</table>\n",
       "<p>5 rows × 23 columns</p>\n",
       "</div>"
      ],
      "text/plain": [
       "  Date Added category sellerlink sellerlink-url     sellerstorefront-url  \\\n",
       "0 2020-11-15   Garden   Seller 1  Seller 1-link  Seller 1-storefrontlink   \n",
       "1 2020-11-15   Garden   Seller 2  Seller 2-link  Seller 2-storefrontlink   \n",
       "2 2020-11-15   Garden   Seller 3  Seller 3-link  Seller 3-storefrontlink   \n",
       "3 2020-11-15   Garden   Seller 4  Seller 4-link  Seller 4-storefrontlink   \n",
       "4 2020-11-15   Garden   Seller 5  Seller 5-link  Seller 5-storefrontlink   \n",
       "\n",
       "             sellerproductcount  \\\n",
       "0  1-16 of over 100,000 results   \n",
       "1                           NaN   \n",
       "2    1-16 of over 2,000 results   \n",
       "3           1-16 of 123 results   \n",
       "4    1-16 of over 1,000 results   \n",
       "\n",
       "                                      sellerratings  \\\n",
       "0  88% positive in the last 12 months (118 ratings)   \n",
       "1  90% positive in the last 12 months (566 ratings)   \n",
       "2   85% positive in the last 12 months (75 ratings)   \n",
       "3                                               NaN   \n",
       "4   81% positive in the last 12 months (52 ratings)   \n",
       "\n",
       "                                       sellerdetails  \\\n",
       "0  Lohas Living Inc James Mazzello US 845 3RD Ave...   \n",
       "1  Herzlich Willkommen im Amazon Shop von 1a-Hand...   \n",
       "2  67878u6i7 is committed to providing each custo...   \n",
       "3  7 days home life supermarket is committed to p...   \n",
       "4  78 68yui678 is committed to providing each cus...   \n",
       "\n",
       "                                seller business name  \\\n",
       "0                     Business Name:Lohas Living Inc   \n",
       "1                    Business Name:1a-Handelsagentur   \n",
       "2  Business Name:nantongaohuanfangzhipinyouxiango...   \n",
       "3   Business Name:Zhengzhou Yaoqiong Trading Company   \n",
       "4  Business Name:shenzhenfeichangshangmeimaoyiyou...   \n",
       "\n",
       "                                     businessaddress  ...  \\\n",
       "0  411 THEODORE FREMD AVESTE 206 SOUTHRyeNY10580-...  ...   \n",
       "1  1a HandelsagenturLindenallee 2MalchowMecklenbu...  ...   \n",
       "2  zhongnanshijicheng27zhuang1410haochongchuanqun...  ...   \n",
       "3         河南省中兴南路福禄街自贸试验区郑州片区（郑东）河南商会大厦1901室450000CN  ...   \n",
       "4  minzhidadaoshaxialaocun94dongA901longhuaxinqus...  ...   \n",
       "\n",
       "   Max % of negative seller ratings - last 12 months  Hero Product 1 #ratings  \\\n",
       "0                                                 12                     5873   \n",
       "1                                                  9                        0   \n",
       "2                                                 12                      164   \n",
       "3                                                  0                        0   \n",
       "4                                                 15                      224   \n",
       "\n",
       "   Hero Product 2 #ratings         Sample brand name  \\\n",
       "0                     4957  Visit the YAMAZAKI Store   \n",
       "1                        0      Visit the tesa Store   \n",
       "2                      162                    TXYFYP   \n",
       "3                        0                   SHIFENG   \n",
       "4                      113                   YUOKI99   \n",
       "\n",
       "                                    Sample Brand URL  \\\n",
       "0  https://www.amazon.de/-/en/stores/YAMAZAKI/pag...   \n",
       "1  https://www.amazon.de/-/en/stores/tesa/page/12...   \n",
       "2  https://www.amazon.de/-/en/s/ref=bl_dp_s_web_0...   \n",
       "3  https://www.amazon.de/-/en/s/ref=bl_dp_s_web_0...   \n",
       "4  https://www.amazon.de/-/en/s/ref=bl_dp_s_web_0...   \n",
       "\n",
       "   sellerproductcount_processed sellerratings_perc_processed  \\\n",
       "0                        100000                           88   \n",
       "1               Unable to parse                           90   \n",
       "2                          2000                           85   \n",
       "3                           123              Unable to parse   \n",
       "4                          1000                           81   \n",
       "\n",
       "  sellerratings_count_processed sellerdetails_email_processed  \\\n",
       "0                           118         jadgemaello@gmail.com   \n",
       "1                           566     info@1a-handelsagentur.de   \n",
       "2                            75               Unable to parse   \n",
       "3               Unable to parse               Unable to parse   \n",
       "4                            52               Unable to parse   \n",
       "\n",
       "  businessaddress_processed  \n",
       "0                        US  \n",
       "1                        DE  \n",
       "2                        CN  \n",
       "3                        CN  \n",
       "4                        CN  \n",
       "\n",
       "[5 rows x 23 columns]"
      ]
     },
     "execution_count": 86,
     "metadata": {},
     "output_type": "execute_result"
    }
   ],
   "source": [
    "df_processed.head()"
   ]
  },
  {
   "cell_type": "code",
   "execution_count": 87,
   "metadata": {},
   "outputs": [
    {
     "data": {
      "text/plain": [
       "Index(['Date Added', 'category', 'sellerlink', 'sellerlink-url',\n",
       "       'sellerstorefront-url', 'sellerproductcount', 'sellerratings',\n",
       "       'sellerdetails', 'seller business name', 'businessaddress',\n",
       "       'Count of seller brands',\n",
       "       'Max % of negative seller ratings - last 30 days',\n",
       "       'Max % of negative seller ratings - last 90 days',\n",
       "       'Max % of negative seller ratings - last 12 months',\n",
       "       'Hero Product 1 #ratings', 'Hero Product 2 #ratings',\n",
       "       'Sample brand name', 'Sample Brand URL', 'sellerproductcount_processed',\n",
       "       'sellerratings_perc_processed', 'sellerratings_count_processed',\n",
       "       'sellerdetails_email_processed', 'businessaddress_processed'],\n",
       "      dtype='object')"
      ]
     },
     "execution_count": 87,
     "metadata": {},
     "output_type": "execute_result"
    }
   ],
   "source": [
    "df_processed.columns"
   ]
  },
  {
   "cell_type": "code",
   "execution_count": 89,
   "metadata": {},
   "outputs": [
    {
     "data": {
      "text/plain": [
       "Date Added                                             0\n",
       "category                                               0\n",
       "sellerlink                                             0\n",
       "sellerlink-url                                         0\n",
       "sellerstorefront-url                                   0\n",
       "sellerproductcount                                   326\n",
       "sellerratings                                        428\n",
       "sellerdetails                                         27\n",
       "seller business name                                  56\n",
       "businessaddress                                       75\n",
       "Count of seller brands                                 0\n",
       "Max % of negative seller ratings - last 30 days        0\n",
       "Max % of negative seller ratings - last 90 days        0\n",
       "Max % of negative seller ratings - last 12 months      0\n",
       "Hero Product 1 #ratings                                0\n",
       "Hero Product 2 #ratings                                0\n",
       "Sample brand name                                      4\n",
       "Sample Brand URL                                       0\n",
       "sellerproductcount_processed                           0\n",
       "sellerratings_perc_processed                           0\n",
       "sellerratings_count_processed                          0\n",
       "sellerdetails_email_processed                          0\n",
       "businessaddress_processed                             75\n",
       "dtype: int64"
      ]
     },
     "execution_count": 89,
     "metadata": {},
     "output_type": "execute_result"
    }
   ],
   "source": [
    "df_processed.isna().sum()"
   ]
  },
  {
   "cell_type": "code",
   "execution_count": 90,
   "metadata": {},
   "outputs": [],
   "source": [
    "#Some columns where we assigned unable to parse, now replace with np.nan and convert columns to int\n",
    "cols = ['sellerproductcount_processed','sellerratings_perc_processed','sellerratings_count_processed','sellerdetails_email_processed']\n",
    "\n",
    "for col in cols:\n",
    "    df_processed[col] = np.where(df_processed[col]=='Unable to parse',np.nan,df_processed[col])\n"
   ]
  },
  {
   "cell_type": "code",
   "execution_count": 91,
   "metadata": {},
   "outputs": [
    {
     "data": {
      "text/plain": [
       "Date Added                                              0\n",
       "category                                                0\n",
       "sellerlink                                              0\n",
       "sellerlink-url                                          0\n",
       "sellerstorefront-url                                    0\n",
       "sellerproductcount                                    326\n",
       "sellerratings                                         428\n",
       "sellerdetails                                          27\n",
       "seller business name                                   56\n",
       "businessaddress                                        75\n",
       "Count of seller brands                                  0\n",
       "Max % of negative seller ratings - last 30 days         0\n",
       "Max % of negative seller ratings - last 90 days         0\n",
       "Max % of negative seller ratings - last 12 months       0\n",
       "Hero Product 1 #ratings                                 0\n",
       "Hero Product 2 #ratings                                 0\n",
       "Sample brand name                                       4\n",
       "Sample Brand URL                                        0\n",
       "sellerproductcount_processed                          326\n",
       "sellerratings_perc_processed                          428\n",
       "sellerratings_count_processed                         428\n",
       "sellerdetails_email_processed                        1525\n",
       "businessaddress_processed                              75\n",
       "dtype: int64"
      ]
     },
     "execution_count": 91,
     "metadata": {},
     "output_type": "execute_result"
    }
   ],
   "source": [
    "df_processed.isna().sum()"
   ]
  },
  {
   "cell_type": "code",
   "execution_count": 101,
   "metadata": {},
   "outputs": [
    {
     "name": "stdout",
     "output_type": "stream",
     "text": [
      "Unique Values of Date Added\n",
      "0   2020-11-15\n",
      "Name: Date Added, dtype: datetime64[ns]\n",
      "Unique Values of category\n",
      "0    Garden\n",
      "Name: category, dtype: object\n",
      "Unique Values of Count of seller brands\n",
      "0      16\n",
      "1       0\n",
      "2      15\n",
      "3       1\n",
      "5      13\n",
      "6       6\n",
      "9       4\n",
      "11      5\n",
      "13      3\n",
      "17      9\n",
      "20     14\n",
      "34      2\n",
      "40      8\n",
      "50     11\n",
      "76     10\n",
      "84      7\n",
      "138    12\n",
      "Name: Count of seller brands, dtype: int64\n"
     ]
    }
   ],
   "source": [
    "for col in df_processed:\n",
    "    if df_processed[col].nunique()<20:\n",
    "        print(\"Unique Values of {0}\".format(col))\n",
    "        print(df_processed[col].drop_duplicates())"
   ]
  },
  {
   "cell_type": "code",
   "execution_count": 113,
   "metadata": {},
   "outputs": [
    {
     "ename": "ValueError",
     "evalue": "could not convert string to float: ''",
     "output_type": "error",
     "traceback": [
      "\u001b[1;31m---------------------------------------------------------------------------\u001b[0m",
      "\u001b[1;31mValueError\u001b[0m                                Traceback (most recent call last)",
      "\u001b[1;32md:\\Python Scripts\\Razor Group Take-Home\\Razor Analysis.ipynb Cell 42'\u001b[0m in \u001b[0;36m<cell line: 4>\u001b[1;34m()\u001b[0m\n\u001b[0;32m      <a href='vscode-notebook-cell:/d%3A/Python%20Scripts/Razor%20Group%20Take-Home/Razor%20Analysis.ipynb#ch0000055?line=1'>2</a>\u001b[0m cols \u001b[39m=\u001b[39m [\u001b[39m'\u001b[39m\u001b[39msellerproductcount_processed\u001b[39m\u001b[39m'\u001b[39m,\u001b[39m'\u001b[39m\u001b[39msellerratings_perc_processed\u001b[39m\u001b[39m'\u001b[39m,\u001b[39m'\u001b[39m\u001b[39msellerratings_count_processed\u001b[39m\u001b[39m'\u001b[39m]\n\u001b[0;32m      <a href='vscode-notebook-cell:/d%3A/Python%20Scripts/Razor%20Group%20Take-Home/Razor%20Analysis.ipynb#ch0000055?line=3'>4</a>\u001b[0m \u001b[39mfor\u001b[39;00m col \u001b[39min\u001b[39;00m cols:\n\u001b[1;32m----> <a href='vscode-notebook-cell:/d%3A/Python%20Scripts/Razor%20Group%20Take-Home/Razor%20Analysis.ipynb#ch0000055?line=4'>5</a>\u001b[0m     df_processed[col] \u001b[39m=\u001b[39m df_processed[col]\u001b[39m.\u001b[39;49mastype(\u001b[39mfloat\u001b[39;49m)\n",
      "File \u001b[1;32mc:\\Users\\saksham\\anaconda3\\envs\\razor\\lib\\site-packages\\pandas\\core\\generic.py:5912\u001b[0m, in \u001b[0;36mNDFrame.astype\u001b[1;34m(self, dtype, copy, errors)\u001b[0m\n\u001b[0;32m   <a href='file:///c%3A/Users/saksham/anaconda3/envs/razor/lib/site-packages/pandas/core/generic.py?line=5904'>5905</a>\u001b[0m     results \u001b[39m=\u001b[39m [\n\u001b[0;32m   <a href='file:///c%3A/Users/saksham/anaconda3/envs/razor/lib/site-packages/pandas/core/generic.py?line=5905'>5906</a>\u001b[0m         \u001b[39mself\u001b[39m\u001b[39m.\u001b[39miloc[:, i]\u001b[39m.\u001b[39mastype(dtype, copy\u001b[39m=\u001b[39mcopy)\n\u001b[0;32m   <a href='file:///c%3A/Users/saksham/anaconda3/envs/razor/lib/site-packages/pandas/core/generic.py?line=5906'>5907</a>\u001b[0m         \u001b[39mfor\u001b[39;00m i \u001b[39min\u001b[39;00m \u001b[39mrange\u001b[39m(\u001b[39mlen\u001b[39m(\u001b[39mself\u001b[39m\u001b[39m.\u001b[39mcolumns))\n\u001b[0;32m   <a href='file:///c%3A/Users/saksham/anaconda3/envs/razor/lib/site-packages/pandas/core/generic.py?line=5907'>5908</a>\u001b[0m     ]\n\u001b[0;32m   <a href='file:///c%3A/Users/saksham/anaconda3/envs/razor/lib/site-packages/pandas/core/generic.py?line=5909'>5910</a>\u001b[0m \u001b[39melse\u001b[39;00m:\n\u001b[0;32m   <a href='file:///c%3A/Users/saksham/anaconda3/envs/razor/lib/site-packages/pandas/core/generic.py?line=5910'>5911</a>\u001b[0m     \u001b[39m# else, only a single dtype is given\u001b[39;00m\n\u001b[1;32m-> <a href='file:///c%3A/Users/saksham/anaconda3/envs/razor/lib/site-packages/pandas/core/generic.py?line=5911'>5912</a>\u001b[0m     new_data \u001b[39m=\u001b[39m \u001b[39mself\u001b[39;49m\u001b[39m.\u001b[39;49m_mgr\u001b[39m.\u001b[39;49mastype(dtype\u001b[39m=\u001b[39;49mdtype, copy\u001b[39m=\u001b[39;49mcopy, errors\u001b[39m=\u001b[39;49merrors)\n\u001b[0;32m   <a href='file:///c%3A/Users/saksham/anaconda3/envs/razor/lib/site-packages/pandas/core/generic.py?line=5912'>5913</a>\u001b[0m     \u001b[39mreturn\u001b[39;00m \u001b[39mself\u001b[39m\u001b[39m.\u001b[39m_constructor(new_data)\u001b[39m.\u001b[39m__finalize__(\u001b[39mself\u001b[39m, method\u001b[39m=\u001b[39m\u001b[39m\"\u001b[39m\u001b[39mastype\u001b[39m\u001b[39m\"\u001b[39m)\n\u001b[0;32m   <a href='file:///c%3A/Users/saksham/anaconda3/envs/razor/lib/site-packages/pandas/core/generic.py?line=5914'>5915</a>\u001b[0m \u001b[39m# GH 33113: handle empty frame or series\u001b[39;00m\n",
      "File \u001b[1;32mc:\\Users\\saksham\\anaconda3\\envs\\razor\\lib\\site-packages\\pandas\\core\\internals\\managers.py:419\u001b[0m, in \u001b[0;36mBaseBlockManager.astype\u001b[1;34m(self, dtype, copy, errors)\u001b[0m\n\u001b[0;32m    <a href='file:///c%3A/Users/saksham/anaconda3/envs/razor/lib/site-packages/pandas/core/internals/managers.py?line=417'>418</a>\u001b[0m \u001b[39mdef\u001b[39;00m \u001b[39mastype\u001b[39m(\u001b[39mself\u001b[39m: T, dtype, copy: \u001b[39mbool\u001b[39m \u001b[39m=\u001b[39m \u001b[39mFalse\u001b[39;00m, errors: \u001b[39mstr\u001b[39m \u001b[39m=\u001b[39m \u001b[39m\"\u001b[39m\u001b[39mraise\u001b[39m\u001b[39m\"\u001b[39m) \u001b[39m-\u001b[39m\u001b[39m>\u001b[39m T:\n\u001b[1;32m--> <a href='file:///c%3A/Users/saksham/anaconda3/envs/razor/lib/site-packages/pandas/core/internals/managers.py?line=418'>419</a>\u001b[0m     \u001b[39mreturn\u001b[39;00m \u001b[39mself\u001b[39;49m\u001b[39m.\u001b[39;49mapply(\u001b[39m\"\u001b[39;49m\u001b[39mastype\u001b[39;49m\u001b[39m\"\u001b[39;49m, dtype\u001b[39m=\u001b[39;49mdtype, copy\u001b[39m=\u001b[39;49mcopy, errors\u001b[39m=\u001b[39;49merrors)\n",
      "File \u001b[1;32mc:\\Users\\saksham\\anaconda3\\envs\\razor\\lib\\site-packages\\pandas\\core\\internals\\managers.py:304\u001b[0m, in \u001b[0;36mBaseBlockManager.apply\u001b[1;34m(self, f, align_keys, ignore_failures, **kwargs)\u001b[0m\n\u001b[0;32m    <a href='file:///c%3A/Users/saksham/anaconda3/envs/razor/lib/site-packages/pandas/core/internals/managers.py?line=301'>302</a>\u001b[0m         applied \u001b[39m=\u001b[39m b\u001b[39m.\u001b[39mapply(f, \u001b[39m*\u001b[39m\u001b[39m*\u001b[39mkwargs)\n\u001b[0;32m    <a href='file:///c%3A/Users/saksham/anaconda3/envs/razor/lib/site-packages/pandas/core/internals/managers.py?line=302'>303</a>\u001b[0m     \u001b[39melse\u001b[39;00m:\n\u001b[1;32m--> <a href='file:///c%3A/Users/saksham/anaconda3/envs/razor/lib/site-packages/pandas/core/internals/managers.py?line=303'>304</a>\u001b[0m         applied \u001b[39m=\u001b[39m \u001b[39mgetattr\u001b[39m(b, f)(\u001b[39m*\u001b[39m\u001b[39m*\u001b[39mkwargs)\n\u001b[0;32m    <a href='file:///c%3A/Users/saksham/anaconda3/envs/razor/lib/site-packages/pandas/core/internals/managers.py?line=304'>305</a>\u001b[0m \u001b[39mexcept\u001b[39;00m (\u001b[39mTypeError\u001b[39;00m, \u001b[39mNotImplementedError\u001b[39;00m):\n\u001b[0;32m    <a href='file:///c%3A/Users/saksham/anaconda3/envs/razor/lib/site-packages/pandas/core/internals/managers.py?line=305'>306</a>\u001b[0m     \u001b[39mif\u001b[39;00m \u001b[39mnot\u001b[39;00m ignore_failures:\n",
      "File \u001b[1;32mc:\\Users\\saksham\\anaconda3\\envs\\razor\\lib\\site-packages\\pandas\\core\\internals\\blocks.py:580\u001b[0m, in \u001b[0;36mBlock.astype\u001b[1;34m(self, dtype, copy, errors)\u001b[0m\n\u001b[0;32m    <a href='file:///c%3A/Users/saksham/anaconda3/envs/razor/lib/site-packages/pandas/core/internals/blocks.py?line=561'>562</a>\u001b[0m \u001b[39m\"\"\"\u001b[39;00m\n\u001b[0;32m    <a href='file:///c%3A/Users/saksham/anaconda3/envs/razor/lib/site-packages/pandas/core/internals/blocks.py?line=562'>563</a>\u001b[0m \u001b[39mCoerce to the new dtype.\u001b[39;00m\n\u001b[0;32m    <a href='file:///c%3A/Users/saksham/anaconda3/envs/razor/lib/site-packages/pandas/core/internals/blocks.py?line=563'>564</a>\u001b[0m \n\u001b[1;32m   (...)\u001b[0m\n\u001b[0;32m    <a href='file:///c%3A/Users/saksham/anaconda3/envs/razor/lib/site-packages/pandas/core/internals/blocks.py?line=575'>576</a>\u001b[0m \u001b[39mBlock\u001b[39;00m\n\u001b[0;32m    <a href='file:///c%3A/Users/saksham/anaconda3/envs/razor/lib/site-packages/pandas/core/internals/blocks.py?line=576'>577</a>\u001b[0m \u001b[39m\"\"\"\u001b[39;00m\n\u001b[0;32m    <a href='file:///c%3A/Users/saksham/anaconda3/envs/razor/lib/site-packages/pandas/core/internals/blocks.py?line=577'>578</a>\u001b[0m values \u001b[39m=\u001b[39m \u001b[39mself\u001b[39m\u001b[39m.\u001b[39mvalues\n\u001b[1;32m--> <a href='file:///c%3A/Users/saksham/anaconda3/envs/razor/lib/site-packages/pandas/core/internals/blocks.py?line=579'>580</a>\u001b[0m new_values \u001b[39m=\u001b[39m astype_array_safe(values, dtype, copy\u001b[39m=\u001b[39;49mcopy, errors\u001b[39m=\u001b[39;49merrors)\n\u001b[0;32m    <a href='file:///c%3A/Users/saksham/anaconda3/envs/razor/lib/site-packages/pandas/core/internals/blocks.py?line=581'>582</a>\u001b[0m new_values \u001b[39m=\u001b[39m maybe_coerce_values(new_values)\n\u001b[0;32m    <a href='file:///c%3A/Users/saksham/anaconda3/envs/razor/lib/site-packages/pandas/core/internals/blocks.py?line=582'>583</a>\u001b[0m newb \u001b[39m=\u001b[39m \u001b[39mself\u001b[39m\u001b[39m.\u001b[39mmake_block(new_values)\n",
      "File \u001b[1;32mc:\\Users\\saksham\\anaconda3\\envs\\razor\\lib\\site-packages\\pandas\\core\\dtypes\\cast.py:1292\u001b[0m, in \u001b[0;36mastype_array_safe\u001b[1;34m(values, dtype, copy, errors)\u001b[0m\n\u001b[0;32m   <a href='file:///c%3A/Users/saksham/anaconda3/envs/razor/lib/site-packages/pandas/core/dtypes/cast.py?line=1288'>1289</a>\u001b[0m     dtype \u001b[39m=\u001b[39m dtype\u001b[39m.\u001b[39mnumpy_dtype\n\u001b[0;32m   <a href='file:///c%3A/Users/saksham/anaconda3/envs/razor/lib/site-packages/pandas/core/dtypes/cast.py?line=1290'>1291</a>\u001b[0m \u001b[39mtry\u001b[39;00m:\n\u001b[1;32m-> <a href='file:///c%3A/Users/saksham/anaconda3/envs/razor/lib/site-packages/pandas/core/dtypes/cast.py?line=1291'>1292</a>\u001b[0m     new_values \u001b[39m=\u001b[39m astype_array(values, dtype, copy\u001b[39m=\u001b[39;49mcopy)\n\u001b[0;32m   <a href='file:///c%3A/Users/saksham/anaconda3/envs/razor/lib/site-packages/pandas/core/dtypes/cast.py?line=1292'>1293</a>\u001b[0m \u001b[39mexcept\u001b[39;00m (\u001b[39mValueError\u001b[39;00m, \u001b[39mTypeError\u001b[39;00m):\n\u001b[0;32m   <a href='file:///c%3A/Users/saksham/anaconda3/envs/razor/lib/site-packages/pandas/core/dtypes/cast.py?line=1293'>1294</a>\u001b[0m     \u001b[39m# e.g. astype_nansafe can fail on object-dtype of strings\u001b[39;00m\n\u001b[0;32m   <a href='file:///c%3A/Users/saksham/anaconda3/envs/razor/lib/site-packages/pandas/core/dtypes/cast.py?line=1294'>1295</a>\u001b[0m     \u001b[39m#  trying to convert to float\u001b[39;00m\n\u001b[0;32m   <a href='file:///c%3A/Users/saksham/anaconda3/envs/razor/lib/site-packages/pandas/core/dtypes/cast.py?line=1295'>1296</a>\u001b[0m     \u001b[39mif\u001b[39;00m errors \u001b[39m==\u001b[39m \u001b[39m\"\u001b[39m\u001b[39mignore\u001b[39m\u001b[39m\"\u001b[39m:\n",
      "File \u001b[1;32mc:\\Users\\saksham\\anaconda3\\envs\\razor\\lib\\site-packages\\pandas\\core\\dtypes\\cast.py:1237\u001b[0m, in \u001b[0;36mastype_array\u001b[1;34m(values, dtype, copy)\u001b[0m\n\u001b[0;32m   <a href='file:///c%3A/Users/saksham/anaconda3/envs/razor/lib/site-packages/pandas/core/dtypes/cast.py?line=1233'>1234</a>\u001b[0m     values \u001b[39m=\u001b[39m values\u001b[39m.\u001b[39mastype(dtype, copy\u001b[39m=\u001b[39mcopy)\n\u001b[0;32m   <a href='file:///c%3A/Users/saksham/anaconda3/envs/razor/lib/site-packages/pandas/core/dtypes/cast.py?line=1235'>1236</a>\u001b[0m \u001b[39melse\u001b[39;00m:\n\u001b[1;32m-> <a href='file:///c%3A/Users/saksham/anaconda3/envs/razor/lib/site-packages/pandas/core/dtypes/cast.py?line=1236'>1237</a>\u001b[0m     values \u001b[39m=\u001b[39m astype_nansafe(values, dtype, copy\u001b[39m=\u001b[39;49mcopy)\n\u001b[0;32m   <a href='file:///c%3A/Users/saksham/anaconda3/envs/razor/lib/site-packages/pandas/core/dtypes/cast.py?line=1238'>1239</a>\u001b[0m \u001b[39m# in pandas we don't store numpy str dtypes, so convert to object\u001b[39;00m\n\u001b[0;32m   <a href='file:///c%3A/Users/saksham/anaconda3/envs/razor/lib/site-packages/pandas/core/dtypes/cast.py?line=1239'>1240</a>\u001b[0m \u001b[39mif\u001b[39;00m \u001b[39misinstance\u001b[39m(dtype, np\u001b[39m.\u001b[39mdtype) \u001b[39mand\u001b[39;00m \u001b[39missubclass\u001b[39m(values\u001b[39m.\u001b[39mdtype\u001b[39m.\u001b[39mtype, \u001b[39mstr\u001b[39m):\n",
      "File \u001b[1;32mc:\\Users\\saksham\\anaconda3\\envs\\razor\\lib\\site-packages\\pandas\\core\\dtypes\\cast.py:1181\u001b[0m, in \u001b[0;36mastype_nansafe\u001b[1;34m(arr, dtype, copy, skipna)\u001b[0m\n\u001b[0;32m   <a href='file:///c%3A/Users/saksham/anaconda3/envs/razor/lib/site-packages/pandas/core/dtypes/cast.py?line=1176'>1177</a>\u001b[0m     \u001b[39mraise\u001b[39;00m \u001b[39mValueError\u001b[39;00m(msg)\n\u001b[0;32m   <a href='file:///c%3A/Users/saksham/anaconda3/envs/razor/lib/site-packages/pandas/core/dtypes/cast.py?line=1178'>1179</a>\u001b[0m \u001b[39mif\u001b[39;00m copy \u001b[39mor\u001b[39;00m is_object_dtype(arr\u001b[39m.\u001b[39mdtype) \u001b[39mor\u001b[39;00m is_object_dtype(dtype):\n\u001b[0;32m   <a href='file:///c%3A/Users/saksham/anaconda3/envs/razor/lib/site-packages/pandas/core/dtypes/cast.py?line=1179'>1180</a>\u001b[0m     \u001b[39m# Explicit copy, or required since NumPy can't view from / to object.\u001b[39;00m\n\u001b[1;32m-> <a href='file:///c%3A/Users/saksham/anaconda3/envs/razor/lib/site-packages/pandas/core/dtypes/cast.py?line=1180'>1181</a>\u001b[0m     \u001b[39mreturn\u001b[39;00m arr\u001b[39m.\u001b[39;49mastype(dtype, copy\u001b[39m=\u001b[39;49m\u001b[39mTrue\u001b[39;49;00m)\n\u001b[0;32m   <a href='file:///c%3A/Users/saksham/anaconda3/envs/razor/lib/site-packages/pandas/core/dtypes/cast.py?line=1182'>1183</a>\u001b[0m \u001b[39mreturn\u001b[39;00m arr\u001b[39m.\u001b[39mastype(dtype, copy\u001b[39m=\u001b[39mcopy)\n",
      "\u001b[1;31mValueError\u001b[0m: could not convert string to float: ''"
     ]
    }
   ],
   "source": [
    "#Some columns where we assigned unable to parse, now replace with np.nan and convert columns to int\n",
    "cols = ['sellerproductcount_processed','sellerratings_perc_processed','sellerratings_count_processed']\n",
    "\n",
    "for col in cols:\n",
    "    df_processed[col] = df_processed[col].astype(float)\n"
   ]
  },
  {
   "cell_type": "code",
   "execution_count": 114,
   "metadata": {},
   "outputs": [
    {
     "name": "stdout",
     "output_type": "stream",
     "text": [
      "<class 'pandas.core.frame.DataFrame'>\n",
      "RangeIndex: 1839 entries, 0 to 1838\n",
      "Data columns (total 18 columns):\n",
      " #   Column                                             Non-Null Count  Dtype  \n",
      "---  ------                                             --------------  -----  \n",
      " 0   sellerproductcount                                 1513 non-null   object \n",
      " 1   sellerratings                                      1411 non-null   object \n",
      " 2   sellerdetails                                      1812 non-null   object \n",
      " 3   seller business name                               1783 non-null   object \n",
      " 4   businessaddress                                    1764 non-null   object \n",
      " 5   Count of seller brands                             1839 non-null   int64  \n",
      " 6   Max % of negative seller ratings - last 30 days    1839 non-null   int64  \n",
      " 7   Max % of negative seller ratings - last 90 days    1839 non-null   int64  \n",
      " 8   Max % of negative seller ratings - last 12 months  1839 non-null   int64  \n",
      " 9   Hero Product 1 #ratings                            1839 non-null   int64  \n",
      " 10  Hero Product 2 #ratings                            1839 non-null   int64  \n",
      " 11  Sample brand name                                  1835 non-null   object \n",
      " 12  Sample Brand URL                                   1839 non-null   object \n",
      " 13  sellerproductcount_processed                       1513 non-null   float64\n",
      " 14  sellerratings_perc_processed                       1411 non-null   float64\n",
      " 15  sellerratings_count_processed                      1411 non-null   object \n",
      " 16  sellerdetails_email_processed                      314 non-null    object \n",
      " 17  businessaddress_processed                          1764 non-null   object \n",
      "dtypes: float64(2), int64(6), object(10)\n",
      "memory usage: 258.7+ KB\n"
     ]
    }
   ],
   "source": [
    "df_processed.iloc[:,5:].info()"
   ]
  },
  {
   "cell_type": "code",
   "execution_count": 118,
   "metadata": {},
   "outputs": [
    {
     "data": {
      "text/html": [
       "<div>\n",
       "<style scoped>\n",
       "    .dataframe tbody tr th:only-of-type {\n",
       "        vertical-align: middle;\n",
       "    }\n",
       "\n",
       "    .dataframe tbody tr th {\n",
       "        vertical-align: top;\n",
       "    }\n",
       "\n",
       "    .dataframe thead th {\n",
       "        text-align: right;\n",
       "    }\n",
       "</style>\n",
       "<table border=\"1\" class=\"dataframe\">\n",
       "  <thead>\n",
       "    <tr style=\"text-align: right;\">\n",
       "      <th></th>\n",
       "      <th>sellerratings</th>\n",
       "      <th>sellerratings_count_processed</th>\n",
       "    </tr>\n",
       "  </thead>\n",
       "  <tbody>\n",
       "    <tr>\n",
       "      <th>8</th>\n",
       "      <td>100% positive lifetime (4 total ratings)</td>\n",
       "      <td></td>\n",
       "    </tr>\n",
       "    <tr>\n",
       "      <th>10</th>\n",
       "      <td>100% positive lifetime (3 total ratings)</td>\n",
       "      <td></td>\n",
       "    </tr>\n",
       "    <tr>\n",
       "      <th>11</th>\n",
       "      <td>63% positive lifetime (8 total ratings)</td>\n",
       "      <td></td>\n",
       "    </tr>\n",
       "    <tr>\n",
       "      <th>12</th>\n",
       "      <td>0% positive lifetime (1 total ratings)</td>\n",
       "      <td></td>\n",
       "    </tr>\n",
       "    <tr>\n",
       "      <th>16</th>\n",
       "      <td>100% positive lifetime (2 total ratings)</td>\n",
       "      <td></td>\n",
       "    </tr>\n",
       "    <tr>\n",
       "      <th>...</th>\n",
       "      <td>...</td>\n",
       "      <td>...</td>\n",
       "    </tr>\n",
       "    <tr>\n",
       "      <th>1831</th>\n",
       "      <td>75% positive lifetime (4 total ratings)</td>\n",
       "      <td></td>\n",
       "    </tr>\n",
       "    <tr>\n",
       "      <th>1833</th>\n",
       "      <td>87% positive lifetime (15 total ratings)</td>\n",
       "      <td></td>\n",
       "    </tr>\n",
       "    <tr>\n",
       "      <th>1836</th>\n",
       "      <td>0% positive lifetime (1 total ratings)</td>\n",
       "      <td></td>\n",
       "    </tr>\n",
       "    <tr>\n",
       "      <th>1837</th>\n",
       "      <td>67% positive lifetime (3 total ratings)</td>\n",
       "      <td></td>\n",
       "    </tr>\n",
       "    <tr>\n",
       "      <th>1838</th>\n",
       "      <td>100% positive lifetime (2 total ratings)</td>\n",
       "      <td></td>\n",
       "    </tr>\n",
       "  </tbody>\n",
       "</table>\n",
       "<p>697 rows × 2 columns</p>\n",
       "</div>"
      ],
      "text/plain": [
       "                                 sellerratings sellerratings_count_processed\n",
       "8     100% positive lifetime (4 total ratings)                              \n",
       "10    100% positive lifetime (3 total ratings)                              \n",
       "11     63% positive lifetime (8 total ratings)                              \n",
       "12      0% positive lifetime (1 total ratings)                              \n",
       "16    100% positive lifetime (2 total ratings)                              \n",
       "...                                        ...                           ...\n",
       "1831   75% positive lifetime (4 total ratings)                              \n",
       "1833  87% positive lifetime (15 total ratings)                              \n",
       "1836    0% positive lifetime (1 total ratings)                              \n",
       "1837   67% positive lifetime (3 total ratings)                              \n",
       "1838  100% positive lifetime (2 total ratings)                              \n",
       "\n",
       "[697 rows x 2 columns]"
      ]
     },
     "execution_count": 118,
     "metadata": {},
     "output_type": "execute_result"
    }
   ],
   "source": [
    "df_processed.loc[df_processed['sellerratings_count_processed']==\"\",['sellerratings','sellerratings_count_processed']]"
   ]
  },
  {
   "cell_type": "code",
   "execution_count": 121,
   "metadata": {},
   "outputs": [
    {
     "data": {
      "text/plain": [
       "1100                                                 NaN\n",
       "1101            100% positive lifetime (1 total ratings)\n",
       "1102     81% positive in the last 12 months (16 ratings)\n",
       "1103              0% positive lifetime (1 total ratings)\n",
       "1104                                                 NaN\n",
       "1105              0% positive lifetime (1 total ratings)\n",
       "1106            85% positive lifetime (13 total ratings)\n",
       "1107                                                 NaN\n",
       "1108              0% positive lifetime (2 total ratings)\n",
       "1109                                                 NaN\n",
       "1110    100% positive in the last 12 months (14 ratings)\n",
       "1111            100% positive lifetime (1 total ratings)\n",
       "1112                                                 NaN\n",
       "1113                                                 NaN\n",
       "1114            100% positive lifetime (1 total ratings)\n",
       "1115                                                 NaN\n",
       "1116             67% positive lifetime (3 total ratings)\n",
       "1117                                                 NaN\n",
       "1118            94% positive lifetime (17 total ratings)\n",
       "1119            100% positive lifetime (1 total ratings)\n",
       "1120                                                 NaN\n",
       "1121                                                 NaN\n",
       "1122                                                 NaN\n",
       "1123     90% positive in the last 12 months (21 ratings)\n",
       "1124             86% positive lifetime (7 total ratings)\n",
       "1125                                                 NaN\n",
       "1126     64% positive in the last 12 months (80 ratings)\n",
       "1127                                                 NaN\n",
       "1128                                                 NaN\n",
       "1129            100% positive lifetime (2 total ratings)\n",
       "1130            100% positive lifetime (1 total ratings)\n",
       "1131                                                 NaN\n",
       "1132              0% positive lifetime (1 total ratings)\n",
       "1133                                                 NaN\n",
       "1134            100% positive lifetime (1 total ratings)\n",
       "1135            100% positive lifetime (1 total ratings)\n",
       "1136             67% positive lifetime (3 total ratings)\n",
       "1137                                                 NaN\n",
       "1138                                                 NaN\n",
       "1139                                                 NaN\n",
       "1140     86% positive in the last 12 months (14 ratings)\n",
       "1141                                                 NaN\n",
       "1142             75% positive lifetime (8 total ratings)\n",
       "1143             50% positive lifetime (2 total ratings)\n",
       "1144            100% positive lifetime (1 total ratings)\n",
       "1145                                                 NaN\n",
       "1146                                                 NaN\n",
       "1147                                                 NaN\n",
       "1148                                                 NaN\n",
       "1149                                                 NaN\n",
       "Name: sellerratings, dtype: object"
      ]
     },
     "execution_count": 121,
     "metadata": {},
     "output_type": "execute_result"
    }
   ],
   "source": [
    "df_processed['sellerratings'][1100:1150]"
   ]
  },
  {
   "cell_type": "code",
   "execution_count": null,
   "metadata": {},
   "outputs": [],
   "source": [
    "#I'd skipped this case and this is what's causing the issue - we need to add special provision for this\n"
   ]
  },
  {
   "cell_type": "code",
   "execution_count": 123,
   "metadata": {},
   "outputs": [],
   "source": [
    "def get_rating_count_v2(mystr):\n",
    "    val1 = re.search('(\\d*) total ratings',mystr)\n",
    "    val2 = re.search('(\\d*) ratings',mystr)\n",
    "    if val1 is None and val2 is None:\n",
    "        return 'Unable to parse'\n",
    "    elif val1 is None:\n",
    "        return val2.group(0).replace(' ratings','')\n",
    "    else:\n",
    "        return val1.group(0).replace(' total ratings','')\n"
   ]
  },
  {
   "cell_type": "code",
   "execution_count": 129,
   "metadata": {},
   "outputs": [
    {
     "data": {
      "text/plain": [
       "0       88% positive in the last 12 months (118 ratings)\n",
       "1       90% positive in the last 12 months (566 ratings)\n",
       "2        85% positive in the last 12 months (75 ratings)\n",
       "3                                                    NaN\n",
       "4        81% positive in the last 12 months (52 ratings)\n",
       "                              ...                       \n",
       "1834     83% positive in the last 12 months (46 ratings)\n",
       "1835                                                 NaN\n",
       "1836              0% positive lifetime (1 total ratings)\n",
       "1837             67% positive lifetime (3 total ratings)\n",
       "1838            100% positive lifetime (2 total ratings)\n",
       "Name: sellerratings, Length: 1839, dtype: object"
      ]
     },
     "execution_count": 129,
     "metadata": {},
     "output_type": "execute_result"
    }
   ],
   "source": [
    "df_processed['sellerratings']"
   ]
  },
  {
   "cell_type": "code",
   "execution_count": 130,
   "metadata": {},
   "outputs": [
    {
     "data": {
      "text/plain": [
       "0                   118\n",
       "1                   566\n",
       "2                    75\n",
       "3       Unable to parse\n",
       "4                    52\n",
       "             ...       \n",
       "1834                 46\n",
       "1835    Unable to parse\n",
       "1836                  1\n",
       "1837                  3\n",
       "1838                  2\n",
       "Name: sellerratings, Length: 1839, dtype: object"
      ]
     },
     "execution_count": 130,
     "metadata": {},
     "output_type": "execute_result"
    }
   ],
   "source": [
    "df_processed['sellerratings'].astype(str).apply(get_rating_count_v2)"
   ]
  },
  {
   "cell_type": "code",
   "execution_count": 132,
   "metadata": {},
   "outputs": [],
   "source": [
    "df_processed['sellerratings_count_processed']=df_processed['sellerratings'].astype(str).apply(get_rating_count_v2)"
   ]
  },
  {
   "cell_type": "code",
   "execution_count": 134,
   "metadata": {},
   "outputs": [],
   "source": [
    "df_processed['sellerratings_count_processed'] = np.where(df_processed['sellerratings_count_processed']=='Unable to parse',np.nan,df_processed['sellerratings_count_processed'])"
   ]
  },
  {
   "cell_type": "code",
   "execution_count": 135,
   "metadata": {},
   "outputs": [],
   "source": [
    "df_processed['sellerratings_count_processed'] = df_processed['sellerratings_count_processed'].astype(float)"
   ]
  },
  {
   "cell_type": "code",
   "execution_count": 136,
   "metadata": {},
   "outputs": [
    {
     "data": {
      "text/html": [
       "<div>\n",
       "<style scoped>\n",
       "    .dataframe tbody tr th:only-of-type {\n",
       "        vertical-align: middle;\n",
       "    }\n",
       "\n",
       "    .dataframe tbody tr th {\n",
       "        vertical-align: top;\n",
       "    }\n",
       "\n",
       "    .dataframe thead th {\n",
       "        text-align: right;\n",
       "    }\n",
       "</style>\n",
       "<table border=\"1\" class=\"dataframe\">\n",
       "  <thead>\n",
       "    <tr style=\"text-align: right;\">\n",
       "      <th></th>\n",
       "      <th>Date Added</th>\n",
       "      <th>category</th>\n",
       "      <th>sellerlink</th>\n",
       "      <th>sellerlink-url</th>\n",
       "      <th>sellerstorefront-url</th>\n",
       "      <th>sellerproductcount</th>\n",
       "      <th>sellerratings</th>\n",
       "      <th>sellerdetails</th>\n",
       "      <th>seller business name</th>\n",
       "      <th>businessaddress</th>\n",
       "      <th>Count of seller brands</th>\n",
       "      <th>Max % of negative seller ratings - last 30 days</th>\n",
       "      <th>Max % of negative seller ratings - last 90 days</th>\n",
       "      <th>Max % of negative seller ratings - last 12 months</th>\n",
       "      <th>Hero Product 1 #ratings</th>\n",
       "      <th>Hero Product 2 #ratings</th>\n",
       "      <th>Sample brand name</th>\n",
       "      <th>Sample Brand URL</th>\n",
       "      <th>sellerproductcount_processed</th>\n",
       "      <th>sellerratings_perc_processed</th>\n",
       "      <th>sellerratings_count_processed</th>\n",
       "      <th>sellerdetails_email_processed</th>\n",
       "      <th>businessaddress_processed</th>\n",
       "    </tr>\n",
       "  </thead>\n",
       "  <tbody>\n",
       "    <tr>\n",
       "      <th>0</th>\n",
       "      <td>2020-11-15</td>\n",
       "      <td>Garden</td>\n",
       "      <td>Seller 1</td>\n",
       "      <td>Seller 1-link</td>\n",
       "      <td>Seller 1-storefrontlink</td>\n",
       "      <td>1-16 of over 100,000 results</td>\n",
       "      <td>88% positive in the last 12 months (118 ratings)</td>\n",
       "      <td>Lohas Living Inc James Mazzello US 845 3RD Ave...</td>\n",
       "      <td>Business Name:Lohas Living Inc</td>\n",
       "      <td>411 THEODORE FREMD AVESTE 206 SOUTHRyeNY10580-...</td>\n",
       "      <td>16</td>\n",
       "      <td>17</td>\n",
       "      <td>11</td>\n",
       "      <td>12</td>\n",
       "      <td>5873</td>\n",
       "      <td>4957</td>\n",
       "      <td>Visit the YAMAZAKI Store</td>\n",
       "      <td>https://www.amazon.de/-/en/stores/YAMAZAKI/pag...</td>\n",
       "      <td>100000.0</td>\n",
       "      <td>88.0</td>\n",
       "      <td>118.0</td>\n",
       "      <td>jadgemaello@gmail.com</td>\n",
       "      <td>US</td>\n",
       "    </tr>\n",
       "    <tr>\n",
       "      <th>1</th>\n",
       "      <td>2020-11-15</td>\n",
       "      <td>Garden</td>\n",
       "      <td>Seller 2</td>\n",
       "      <td>Seller 2-link</td>\n",
       "      <td>Seller 2-storefrontlink</td>\n",
       "      <td>NaN</td>\n",
       "      <td>90% positive in the last 12 months (566 ratings)</td>\n",
       "      <td>Herzlich Willkommen im Amazon Shop von 1a-Hand...</td>\n",
       "      <td>Business Name:1a-Handelsagentur</td>\n",
       "      <td>1a HandelsagenturLindenallee 2MalchowMecklenbu...</td>\n",
       "      <td>0</td>\n",
       "      <td>2</td>\n",
       "      <td>2</td>\n",
       "      <td>9</td>\n",
       "      <td>0</td>\n",
       "      <td>0</td>\n",
       "      <td>Visit the tesa Store</td>\n",
       "      <td>https://www.amazon.de/-/en/stores/tesa/page/12...</td>\n",
       "      <td>NaN</td>\n",
       "      <td>90.0</td>\n",
       "      <td>566.0</td>\n",
       "      <td>info@1a-handelsagentur.de</td>\n",
       "      <td>DE</td>\n",
       "    </tr>\n",
       "    <tr>\n",
       "      <th>2</th>\n",
       "      <td>2020-11-15</td>\n",
       "      <td>Garden</td>\n",
       "      <td>Seller 3</td>\n",
       "      <td>Seller 3-link</td>\n",
       "      <td>Seller 3-storefrontlink</td>\n",
       "      <td>1-16 of over 2,000 results</td>\n",
       "      <td>85% positive in the last 12 months (75 ratings)</td>\n",
       "      <td>67878u6i7 is committed to providing each custo...</td>\n",
       "      <td>Business Name:nantongaohuanfangzhipinyouxiango...</td>\n",
       "      <td>zhongnanshijicheng27zhuang1410haochongchuanqun...</td>\n",
       "      <td>15</td>\n",
       "      <td>0</td>\n",
       "      <td>25</td>\n",
       "      <td>12</td>\n",
       "      <td>164</td>\n",
       "      <td>162</td>\n",
       "      <td>TXYFYP</td>\n",
       "      <td>https://www.amazon.de/-/en/s/ref=bl_dp_s_web_0...</td>\n",
       "      <td>2000.0</td>\n",
       "      <td>85.0</td>\n",
       "      <td>75.0</td>\n",
       "      <td>NaN</td>\n",
       "      <td>CN</td>\n",
       "    </tr>\n",
       "    <tr>\n",
       "      <th>3</th>\n",
       "      <td>2020-11-15</td>\n",
       "      <td>Garden</td>\n",
       "      <td>Seller 4</td>\n",
       "      <td>Seller 4-link</td>\n",
       "      <td>Seller 4-storefrontlink</td>\n",
       "      <td>1-16 of 123 results</td>\n",
       "      <td>NaN</td>\n",
       "      <td>7 days home life supermarket is committed to p...</td>\n",
       "      <td>Business Name:Zhengzhou Yaoqiong Trading Company</td>\n",
       "      <td>河南省中兴南路福禄街自贸试验区郑州片区（郑东）河南商会大厦1901室450000CN</td>\n",
       "      <td>1</td>\n",
       "      <td>0</td>\n",
       "      <td>0</td>\n",
       "      <td>0</td>\n",
       "      <td>0</td>\n",
       "      <td>0</td>\n",
       "      <td>SHIFENG</td>\n",
       "      <td>https://www.amazon.de/-/en/s/ref=bl_dp_s_web_0...</td>\n",
       "      <td>123.0</td>\n",
       "      <td>NaN</td>\n",
       "      <td>NaN</td>\n",
       "      <td>NaN</td>\n",
       "      <td>CN</td>\n",
       "    </tr>\n",
       "    <tr>\n",
       "      <th>4</th>\n",
       "      <td>2020-11-15</td>\n",
       "      <td>Garden</td>\n",
       "      <td>Seller 5</td>\n",
       "      <td>Seller 5-link</td>\n",
       "      <td>Seller 5-storefrontlink</td>\n",
       "      <td>1-16 of over 1,000 results</td>\n",
       "      <td>81% positive in the last 12 months (52 ratings)</td>\n",
       "      <td>78 68yui678 is committed to providing each cus...</td>\n",
       "      <td>Business Name:shenzhenfeichangshangmeimaoyiyou...</td>\n",
       "      <td>minzhidadaoshaxialaocun94dongA901longhuaxinqus...</td>\n",
       "      <td>16</td>\n",
       "      <td>0</td>\n",
       "      <td>31</td>\n",
       "      <td>15</td>\n",
       "      <td>224</td>\n",
       "      <td>113</td>\n",
       "      <td>YUOKI99</td>\n",
       "      <td>https://www.amazon.de/-/en/s/ref=bl_dp_s_web_0...</td>\n",
       "      <td>1000.0</td>\n",
       "      <td>81.0</td>\n",
       "      <td>52.0</td>\n",
       "      <td>NaN</td>\n",
       "      <td>CN</td>\n",
       "    </tr>\n",
       "  </tbody>\n",
       "</table>\n",
       "</div>"
      ],
      "text/plain": [
       "  Date Added category sellerlink sellerlink-url     sellerstorefront-url  \\\n",
       "0 2020-11-15   Garden   Seller 1  Seller 1-link  Seller 1-storefrontlink   \n",
       "1 2020-11-15   Garden   Seller 2  Seller 2-link  Seller 2-storefrontlink   \n",
       "2 2020-11-15   Garden   Seller 3  Seller 3-link  Seller 3-storefrontlink   \n",
       "3 2020-11-15   Garden   Seller 4  Seller 4-link  Seller 4-storefrontlink   \n",
       "4 2020-11-15   Garden   Seller 5  Seller 5-link  Seller 5-storefrontlink   \n",
       "\n",
       "             sellerproductcount                                     sellerratings  \\\n",
       "0  1-16 of over 100,000 results  88% positive in the last 12 months (118 ratings)   \n",
       "1                           NaN  90% positive in the last 12 months (566 ratings)   \n",
       "2    1-16 of over 2,000 results   85% positive in the last 12 months (75 ratings)   \n",
       "3           1-16 of 123 results                                               NaN   \n",
       "4    1-16 of over 1,000 results   81% positive in the last 12 months (52 ratings)   \n",
       "\n",
       "                                       sellerdetails  \\\n",
       "0  Lohas Living Inc James Mazzello US 845 3RD Ave...   \n",
       "1  Herzlich Willkommen im Amazon Shop von 1a-Hand...   \n",
       "2  67878u6i7 is committed to providing each custo...   \n",
       "3  7 days home life supermarket is committed to p...   \n",
       "4  78 68yui678 is committed to providing each cus...   \n",
       "\n",
       "                                seller business name  \\\n",
       "0                     Business Name:Lohas Living Inc   \n",
       "1                    Business Name:1a-Handelsagentur   \n",
       "2  Business Name:nantongaohuanfangzhipinyouxiango...   \n",
       "3   Business Name:Zhengzhou Yaoqiong Trading Company   \n",
       "4  Business Name:shenzhenfeichangshangmeimaoyiyou...   \n",
       "\n",
       "                                     businessaddress  Count of seller brands  \\\n",
       "0  411 THEODORE FREMD AVESTE 206 SOUTHRyeNY10580-...                      16   \n",
       "1  1a HandelsagenturLindenallee 2MalchowMecklenbu...                       0   \n",
       "2  zhongnanshijicheng27zhuang1410haochongchuanqun...                      15   \n",
       "3         河南省中兴南路福禄街自贸试验区郑州片区（郑东）河南商会大厦1901室450000CN                       1   \n",
       "4  minzhidadaoshaxialaocun94dongA901longhuaxinqus...                      16   \n",
       "\n",
       "   Max % of negative seller ratings - last 30 days  \\\n",
       "0                                               17   \n",
       "1                                                2   \n",
       "2                                                0   \n",
       "3                                                0   \n",
       "4                                                0   \n",
       "\n",
       "   Max % of negative seller ratings - last 90 days  \\\n",
       "0                                               11   \n",
       "1                                                2   \n",
       "2                                               25   \n",
       "3                                                0   \n",
       "4                                               31   \n",
       "\n",
       "   Max % of negative seller ratings - last 12 months  Hero Product 1 #ratings  \\\n",
       "0                                                 12                     5873   \n",
       "1                                                  9                        0   \n",
       "2                                                 12                      164   \n",
       "3                                                  0                        0   \n",
       "4                                                 15                      224   \n",
       "\n",
       "   Hero Product 2 #ratings         Sample brand name  \\\n",
       "0                     4957  Visit the YAMAZAKI Store   \n",
       "1                        0      Visit the tesa Store   \n",
       "2                      162                    TXYFYP   \n",
       "3                        0                   SHIFENG   \n",
       "4                      113                   YUOKI99   \n",
       "\n",
       "                                    Sample Brand URL  sellerproductcount_processed  \\\n",
       "0  https://www.amazon.de/-/en/stores/YAMAZAKI/pag...                      100000.0   \n",
       "1  https://www.amazon.de/-/en/stores/tesa/page/12...                           NaN   \n",
       "2  https://www.amazon.de/-/en/s/ref=bl_dp_s_web_0...                        2000.0   \n",
       "3  https://www.amazon.de/-/en/s/ref=bl_dp_s_web_0...                         123.0   \n",
       "4  https://www.amazon.de/-/en/s/ref=bl_dp_s_web_0...                        1000.0   \n",
       "\n",
       "   sellerratings_perc_processed  sellerratings_count_processed sellerdetails_email_processed  \\\n",
       "0                          88.0                          118.0         jadgemaello@gmail.com   \n",
       "1                          90.0                          566.0     info@1a-handelsagentur.de   \n",
       "2                          85.0                           75.0                           NaN   \n",
       "3                           NaN                            NaN                           NaN   \n",
       "4                          81.0                           52.0                           NaN   \n",
       "\n",
       "  businessaddress_processed  \n",
       "0                        US  \n",
       "1                        DE  \n",
       "2                        CN  \n",
       "3                        CN  \n",
       "4                        CN  "
      ]
     },
     "execution_count": 136,
     "metadata": {},
     "output_type": "execute_result"
    }
   ],
   "source": [
    "df_processed.head()"
   ]
  },
  {
   "cell_type": "code",
   "execution_count": 138,
   "metadata": {},
   "outputs": [],
   "source": [
    "#About ratings on Amazon:\n",
    "# Ratings meaning\n",
    "# Positive feedback: 5 or 4 stars\n",
    "# Neutral feedback: 3 stars\n",
    "# Negative feedback: 2 or 1 stars\n",
    "#Example:\n",
    "#https://www.amazon.in/sp?marketplaceID=A21TJRUUN4KGV&seller=AXOGFIT0PZZ7G&isAmazonFulfilled=1&ref=dp_merchant_link\n",
    "\n",
    "\n",
    "#https://sellercentral.amazon.com/gp/help/external/G97692EVY8H3CZY9?language=en_US&ref=efph_G97692EVY8H3CZY9_cont_171\n",
    "# If you have more than 10 buyer feedbacks over the previous 12 months,\n",
    "#  buyers will see your 12 month feedback rating and lifetime feedback \n",
    "# total ratings in the following format on the Offer Listings page:\n",
    "\n",
    "# XX% positive over the past 12 months. (YYYY total ratings).\n",
    "\n",
    "# If you have less than 10 buyer feedbacks in the previous 12 months, \n",
    "# or all of your feedbacks are in the past year, buyers will see your \n",
    "# lifetime feedback rating and lifetime feedback total ratings in the \n",
    "# following format on the Offer Listings page:\n",
    "\n",
    "# XX% positive. (YYYY total ratings)."
   ]
  },
  {
   "cell_type": "code",
   "execution_count": 143,
   "metadata": {},
   "outputs": [
    {
     "data": {
      "text/plain": [
       "0      88% positive in the last 12 months (118 ratings)\n",
       "1      90% positive in the last 12 months (566 ratings)\n",
       "2       85% positive in the last 12 months (75 ratings)\n",
       "3                                                   NaN\n",
       "4       81% positive in the last 12 months (52 ratings)\n",
       "5                                                   NaN\n",
       "6                                                   NaN\n",
       "7                                                   NaN\n",
       "8              100% positive lifetime (4 total ratings)\n",
       "9                                                   NaN\n",
       "10             100% positive lifetime (3 total ratings)\n",
       "11              63% positive lifetime (8 total ratings)\n",
       "12               0% positive lifetime (1 total ratings)\n",
       "13                                                  NaN\n",
       "14     97% positive in the last 12 months (116 ratings)\n",
       "15                                                  NaN\n",
       "16             100% positive lifetime (2 total ratings)\n",
       "17                                                  NaN\n",
       "18              67% positive lifetime (9 total ratings)\n",
       "19    76% positive in the last 12 months (3721 ratings)\n",
       "20                                                  NaN\n",
       "21     92% positive in the last 12 months (181 ratings)\n",
       "22     100% positive in the last 12 months (10 ratings)\n",
       "23    88% positive in the last 12 months (3134 ratings)\n",
       "24     97% positive in the last 12 months (610 ratings)\n",
       "25    98% positive in the last 12 months (1488 ratings)\n",
       "26     79% positive in the last 12 months (119 ratings)\n",
       "27      86% positive in the last 12 months (21 ratings)\n",
       "28      76% positive in the last 12 months (17 ratings)\n",
       "29     75% positive in the last 12 months (596 ratings)\n",
       "30    99% positive in the last 12 months (1739 ratings)\n",
       "31      82% positive in the last 12 months (38 ratings)\n",
       "32     87% positive in the last 12 months (294 ratings)\n",
       "33      85% positive in the last 12 months (75 ratings)\n",
       "34             90% positive lifetime (10 total ratings)\n",
       "35     86% positive in the last 12 months (891 ratings)\n",
       "36    91% positive in the last 12 months (5150 ratings)\n",
       "37     93% positive in the last 12 months (120 ratings)\n",
       "38                                                  NaN\n",
       "39             100% positive lifetime (1 total ratings)\n",
       "40     99% positive in the last 12 months (520 ratings)\n",
       "41                                                  NaN\n",
       "42      87% positive in the last 12 months (62 ratings)\n",
       "43              44% positive lifetime (9 total ratings)\n",
       "44     95% positive in the last 12 months (111 ratings)\n",
       "45                                                  NaN\n",
       "46             100% positive lifetime (6 total ratings)\n",
       "47      78% positive in the last 12 months (40 ratings)\n",
       "48               0% positive lifetime (1 total ratings)\n",
       "49              63% positive lifetime (8 total ratings)\n",
       "Name: sellerratings, dtype: object"
      ]
     },
     "execution_count": 143,
     "metadata": {},
     "output_type": "execute_result"
    }
   ],
   "source": [
    "df_processed.sellerratings.iloc[0:50]"
   ]
  },
  {
   "cell_type": "code",
   "execution_count": null,
   "metadata": {},
   "outputs": [],
   "source": [
    "#However output is different - the ratings and timeline are matching it seems\n",
    "#i.e. if % is in last 12 months the ratings are also last 12 months and similarly for lifetime"
   ]
  },
  {
   "cell_type": "code",
   "execution_count": 139,
   "metadata": {},
   "outputs": [],
   "source": [
    "#Based on this we can asssume if last 12 months rating is available, \n",
    "# seller had more than 10 feedbacks in last 12 months, otherwise, \n",
    "# if we have lifetime ratings it implies that <10 feedacks were received in last 12 months\n",
    "df_processed['num_feedback_l12m'] = np.where(df_processed['sellerratings'].str.contains('lifetime',regex=False),\"<10\",\">=10\")"
   ]
  },
  {
   "cell_type": "code",
   "execution_count": 140,
   "metadata": {},
   "outputs": [
    {
     "data": {
      "text/plain": [
       "1839"
      ]
     },
     "execution_count": 140,
     "metadata": {},
     "output_type": "execute_result"
    }
   ],
   "source": [
    "df_processed['sellerlink'].nunique()\n",
    "#so we'll keep sellerlink as unique key of dataset and drop irrelevant columns"
   ]
  },
  {
   "cell_type": "code",
   "execution_count": 141,
   "metadata": {},
   "outputs": [
    {
     "data": {
      "text/plain": [
       "(1839, 24)"
      ]
     },
     "execution_count": 141,
     "metadata": {},
     "output_type": "execute_result"
    }
   ],
   "source": [
    "df_processed.shape"
   ]
  },
  {
   "cell_type": "code",
   "execution_count": 153,
   "metadata": {},
   "outputs": [
    {
     "data": {
      "text/plain": [
       "Index(['Date Added', 'category', 'sellerlink', 'sellerlink-url', 'sellerstorefront-url',\n",
       "       'sellerproductcount', 'sellerratings', 'sellerdetails', 'seller business name',\n",
       "       'businessaddress', 'Count of seller brands',\n",
       "       'Max % of negative seller ratings - last 30 days',\n",
       "       'Max % of negative seller ratings - last 90 days',\n",
       "       'Max % of negative seller ratings - last 12 months', 'Hero Product 1 #ratings',\n",
       "       'Hero Product 2 #ratings', 'Sample brand name', 'Sample Brand URL',\n",
       "       'sellerproductcount_processed', 'sellerratings_perc_processed',\n",
       "       'sellerratings_count_processed', 'sellerdetails_email_processed',\n",
       "       'businessaddress_processed', 'num_feedback_l12m'],\n",
       "      dtype='object')"
      ]
     },
     "execution_count": 153,
     "metadata": {},
     "output_type": "execute_result"
    }
   ],
   "source": [
    "#Exploratory Data Analysis Begin\n",
    "df_processed.columns"
   ]
  },
  {
   "cell_type": "code",
   "execution_count": 164,
   "metadata": {},
   "outputs": [
    {
     "data": {
      "text/plain": [
       "count    1839.000000\n",
       "mean        6.951060\n",
       "std         6.232073\n",
       "min         0.000000\n",
       "25%         1.000000\n",
       "50%         5.000000\n",
       "75%        15.000000\n",
       "max        16.000000\n",
       "Name: Count of seller brands, dtype: float64"
      ]
     },
     "execution_count": 164,
     "metadata": {},
     "output_type": "execute_result"
    }
   ],
   "source": [
    "import matplotlib.pyplot as plt\n",
    "df_processed['Count of seller brands'].describe()"
   ]
  },
  {
   "cell_type": "code",
   "execution_count": 1,
   "metadata": {},
   "outputs": [
    {
     "ename": "NameError",
     "evalue": "name 'df_processed' is not defined",
     "output_type": "error",
     "traceback": [
      "\u001b[1;31m---------------------------------------------------------------------------\u001b[0m",
      "\u001b[1;31mNameError\u001b[0m                                 Traceback (most recent call last)",
      "\u001b[1;32md:\\Python Scripts\\Razor Group Take-Home\\Razor Analysis.ipynb Cell 63'\u001b[0m in \u001b[0;36m<cell line: 2>\u001b[1;34m()\u001b[0m\n\u001b[0;32m      <a href='vscode-notebook-cell:/d%3A/Python%20Scripts/Razor%20Group%20Take-Home/Razor%20Analysis.ipynb#ch0000062?line=0'>1</a>\u001b[0m \u001b[39m#Sellers in Grocery category have on average 6-7 brands listed\u001b[39;00m\n\u001b[1;32m----> <a href='vscode-notebook-cell:/d%3A/Python%20Scripts/Razor%20Group%20Take-Home/Razor%20Analysis.ipynb#ch0000062?line=1'>2</a>\u001b[0m df_processed[df_processed[\u001b[39m'\u001b[39m\u001b[39mCount of seller brands\u001b[39m\u001b[39m'\u001b[39m]\u001b[39m==\u001b[39m\u001b[39m0\u001b[39m]\u001b[39m.\u001b[39mshape\n",
      "\u001b[1;31mNameError\u001b[0m: name 'df_processed' is not defined"
     ]
    }
   ],
   "source": [
    "#Sellers in Grocery category have on average 6-7 brands listed\n",
    "df_processed[df_processed['Count of seller brands']==0].shape\n"
   ]
  },
  {
   "cell_type": "code",
   "execution_count": 168,
   "metadata": {},
   "outputs": [
    {
     "data": {
      "text/plain": [
       "8.510652463382158"
      ]
     },
     "execution_count": 168,
     "metadata": {},
     "output_type": "execute_result"
    }
   ],
   "source": [
    "#337 of 1839 ~ 18% sellers have 0 brands listed\n",
    "df_processed.loc[df_processed['Count of seller brands']!=0,'Count of seller brands'].mean()"
   ]
  },
  {
   "cell_type": "code",
   "execution_count": 166,
   "metadata": {},
   "outputs": [
    {
     "data": {
      "text/plain": [
       "(1839, 24)"
      ]
     },
     "execution_count": 166,
     "metadata": {},
     "output_type": "execute_result"
    }
   ],
   "source": [
    "#Excluding these, ~ 80% sellers have 1 or more brands with average being around 8 brands listed"
   ]
  },
  {
   "cell_type": "code",
   "execution_count": 171,
   "metadata": {},
   "outputs": [
    {
     "data": {
      "text/plain": [
       "<AxesSubplot:>"
      ]
     },
     "execution_count": 171,
     "metadata": {},
     "output_type": "execute_result"
    },
    {
     "data": {
      "image/png": "[encoded data removed]",
      "text/plain": [
       "<Figure size 432x288 with 1 Axes>"
      ]
     },
     "metadata": {
      "needs_background": "light"
     },
     "output_type": "display_data"
    }
   ],
   "source": [
    "w=1\n",
    "df_processed['Count of seller brands'].hist(bins = np.arange(0, 16 + w, w))"
   ]
  },
  {
   "cell_type": "code",
   "execution_count": null,
   "metadata": {},
   "outputs": [],
   "source": [
    "df_processed['Count of seller brands'].hist(bins = np.arange(0, 16 + w, w))"
   ]
  },
  {
   "cell_type": "code",
   "execution_count": 186,
   "metadata": {},
   "outputs": [
    {
     "data": {
      "text/plain": [
       "269"
      ]
     },
     "execution_count": 186,
     "metadata": {},
     "output_type": "execute_result"
    }
   ],
   "source": [
    "(df_processed['Count of seller brands']==15).sum()"
   ]
  },
  {
   "cell_type": "code",
   "execution_count": 192,
   "metadata": {},
   "outputs": [
    {
     "data": {
      "text/plain": [
       "0.7558455682436107"
      ]
     },
     "execution_count": 192,
     "metadata": {},
     "output_type": "execute_result"
    }
   ],
   "source": [
    "#Sellers either have <4 brands or >15 brands, mid tiers have lesser seller population \n",
    "((df_processed['Count of seller brands']>=15)|(df_processed['Count of seller brands']<=4)).sum()/df_processed.shape[0]"
   ]
  },
  {
   "cell_type": "code",
   "execution_count": 198,
   "metadata": {},
   "outputs": [
    {
     "name": "stdout",
     "output_type": "stream",
     "text": [
      "<class 'pandas.core.frame.DataFrame'>\n",
      "RangeIndex: 1839 entries, 0 to 1838\n",
      "Data columns (total 24 columns):\n",
      " #   Column                                             Non-Null Count  Dtype         \n",
      "---  ------                                             --------------  -----         \n",
      " 0   Date Added                                         1839 non-null   datetime64[ns]\n",
      " 1   category                                           1839 non-null   object        \n",
      " 2   sellerlink                                         1839 non-null   object        \n",
      " 3   sellerlink-url                                     1839 non-null   object        \n",
      " 4   sellerstorefront-url                               1839 non-null   object        \n",
      " 5   sellerproductcount                                 1513 non-null   object        \n",
      " 6   sellerratings                                      1411 non-null   object        \n",
      " 7   sellerdetails                                      1812 non-null   object        \n",
      " 8   seller business name                               1783 non-null   object        \n",
      " 9   businessaddress                                    1764 non-null   object        \n",
      " 10  Count of seller brands                             1839 non-null   int64         \n",
      " 11  Max % of negative seller ratings - last 30 days    1839 non-null   int64         \n",
      " 12  Max % of negative seller ratings - last 90 days    1839 non-null   int64         \n",
      " 13  Max % of negative seller ratings - last 12 months  1839 non-null   int64         \n",
      " 14  Hero Product 1 #ratings                            1839 non-null   int64         \n",
      " 15  Hero Product 2 #ratings                            1839 non-null   int64         \n",
      " 16  Sample brand name                                  1835 non-null   object        \n",
      " 17  Sample Brand URL                                   1839 non-null   object        \n",
      " 18  sellerproductcount_processed                       1513 non-null   float64       \n",
      " 19  sellerratings_perc_processed                       1411 non-null   float64       \n",
      " 20  sellerratings_count_processed                      1411 non-null   float64       \n",
      " 21  sellerdetails_email_processed                      314 non-null    object        \n",
      " 22  businessaddress_processed                          1764 non-null   object        \n",
      " 23  num_feedback_l12m                                  1839 non-null   object        \n",
      "dtypes: datetime64[ns](1), float64(3), int64(6), object(14)\n",
      "memory usage: 344.9+ KB\n"
     ]
    }
   ],
   "source": [
    "#i.e. 75% seller population is either <4 brands or >15 brands\n",
    "df_processed.info()"
   ]
  },
  {
   "cell_type": "code",
   "execution_count": 197,
   "metadata": {},
   "outputs": [
    {
     "data": {
      "text/html": [
       "<div>\n",
       "<style scoped>\n",
       "    .dataframe tbody tr th:only-of-type {\n",
       "        vertical-align: middle;\n",
       "    }\n",
       "\n",
       "    .dataframe tbody tr th {\n",
       "        vertical-align: top;\n",
       "    }\n",
       "\n",
       "    .dataframe thead th {\n",
       "        text-align: right;\n",
       "    }\n",
       "</style>\n",
       "<table border=\"1\" class=\"dataframe\">\n",
       "  <thead>\n",
       "    <tr style=\"text-align: right;\">\n",
       "      <th></th>\n",
       "      <th>Date Added</th>\n",
       "      <th>category</th>\n",
       "      <th>sellerlink</th>\n",
       "      <th>sellerlink-url</th>\n",
       "      <th>sellerstorefront-url</th>\n",
       "      <th>sellerproductcount</th>\n",
       "      <th>sellerratings</th>\n",
       "      <th>sellerdetails</th>\n",
       "      <th>seller business name</th>\n",
       "      <th>businessaddress</th>\n",
       "      <th>Count of seller brands</th>\n",
       "      <th>Max % of negative seller ratings - last 30 days</th>\n",
       "      <th>Max % of negative seller ratings - last 90 days</th>\n",
       "      <th>Max % of negative seller ratings - last 12 months</th>\n",
       "      <th>Hero Product 1 #ratings</th>\n",
       "      <th>Hero Product 2 #ratings</th>\n",
       "      <th>Sample brand name</th>\n",
       "      <th>Sample Brand URL</th>\n",
       "      <th>sellerproductcount_processed</th>\n",
       "      <th>sellerratings_perc_processed</th>\n",
       "      <th>sellerratings_count_processed</th>\n",
       "      <th>sellerdetails_email_processed</th>\n",
       "      <th>businessaddress_processed</th>\n",
       "      <th>num_feedback_l12m</th>\n",
       "    </tr>\n",
       "  </thead>\n",
       "  <tbody>\n",
       "    <tr>\n",
       "      <th>0</th>\n",
       "      <td>2020-11-15</td>\n",
       "      <td>Garden</td>\n",
       "      <td>Seller 1</td>\n",
       "      <td>Seller 1-link</td>\n",
       "      <td>Seller 1-storefrontlink</td>\n",
       "      <td>1-16 of over 100,000 results</td>\n",
       "      <td>88% positive in the last 12 months (118 ratings)</td>\n",
       "      <td>Lohas Living Inc James Mazzello US 845 3RD Ave...</td>\n",
       "      <td>Business Name:Lohas Living Inc</td>\n",
       "      <td>411 THEODORE FREMD AVESTE 206 SOUTHRyeNY10580-...</td>\n",
       "      <td>16</td>\n",
       "      <td>17</td>\n",
       "      <td>11</td>\n",
       "      <td>12</td>\n",
       "      <td>5873</td>\n",
       "      <td>4957</td>\n",
       "      <td>Visit the YAMAZAKI Store</td>\n",
       "      <td>https://www.amazon.de/-/en/stores/YAMAZAKI/pag...</td>\n",
       "      <td>100000.0</td>\n",
       "      <td>88.0</td>\n",
       "      <td>118.0</td>\n",
       "      <td>jadgemaello@gmail.com</td>\n",
       "      <td>US</td>\n",
       "      <td>&gt;=10</td>\n",
       "    </tr>\n",
       "  </tbody>\n",
       "</table>\n",
       "</div>"
      ],
      "text/plain": [
       "  Date Added category sellerlink sellerlink-url     sellerstorefront-url  \\\n",
       "0 2020-11-15   Garden   Seller 1  Seller 1-link  Seller 1-storefrontlink   \n",
       "\n",
       "             sellerproductcount                                     sellerratings  \\\n",
       "0  1-16 of over 100,000 results  88% positive in the last 12 months (118 ratings)   \n",
       "\n",
       "                                       sellerdetails            seller business name  \\\n",
       "0  Lohas Living Inc James Mazzello US 845 3RD Ave...  Business Name:Lohas Living Inc   \n",
       "\n",
       "                                     businessaddress  Count of seller brands  \\\n",
       "0  411 THEODORE FREMD AVESTE 206 SOUTHRyeNY10580-...                      16   \n",
       "\n",
       "   Max % of negative seller ratings - last 30 days  \\\n",
       "0                                               17   \n",
       "\n",
       "   Max % of negative seller ratings - last 90 days  \\\n",
       "0                                               11   \n",
       "\n",
       "   Max % of negative seller ratings - last 12 months  Hero Product 1 #ratings  \\\n",
       "0                                                 12                     5873   \n",
       "\n",
       "   Hero Product 2 #ratings         Sample brand name  \\\n",
       "0                     4957  Visit the YAMAZAKI Store   \n",
       "\n",
       "                                    Sample Brand URL  sellerproductcount_processed  \\\n",
       "0  https://www.amazon.de/-/en/stores/YAMAZAKI/pag...                      100000.0   \n",
       "\n",
       "   sellerratings_perc_processed  sellerratings_count_processed sellerdetails_email_processed  \\\n",
       "0                          88.0                          118.0         jadgemaello@gmail.com   \n",
       "\n",
       "  businessaddress_processed num_feedback_l12m  \n",
       "0                        US              >=10  "
      ]
     },
     "execution_count": 197,
     "metadata": {},
     "output_type": "execute_result"
    }
   ],
   "source": [
    "df_processed.head(1)"
   ]
  },
  {
   "cell_type": "code",
   "execution_count": null,
   "metadata": {},
   "outputs": [],
   "source": [
    "#Checking if %  of negative seller ratings have correct range of values"
   ]
  },
  {
   "cell_type": "code",
   "execution_count": 194,
   "metadata": {},
   "outputs": [
    {
     "data": {
      "text/plain": [
       "count    1839.000000\n",
       "mean        5.808592\n",
       "std        18.117027\n",
       "min         0.000000\n",
       "25%         0.000000\n",
       "50%         0.000000\n",
       "75%         0.000000\n",
       "max       100.000000\n",
       "Name: Max % of negative seller ratings - last 30 days, dtype: float64"
      ]
     },
     "execution_count": 194,
     "metadata": {},
     "output_type": "execute_result"
    }
   ],
   "source": [
    "var = 'Max % of negative seller ratings - last 30 days'\n",
    "df_processed[var].describe()"
   ]
  },
  {
   "cell_type": "code",
   "execution_count": 195,
   "metadata": {},
   "outputs": [
    {
     "data": {
      "text/plain": [
       "count    1839.000000\n",
       "mean        7.632409\n",
       "std        19.902394\n",
       "min         0.000000\n",
       "25%         0.000000\n",
       "50%         0.000000\n",
       "75%         4.000000\n",
       "max       100.000000\n",
       "Name: Max % of negative seller ratings - last 90 days, dtype: float64"
      ]
     },
     "execution_count": 195,
     "metadata": {},
     "output_type": "execute_result"
    }
   ],
   "source": [
    "var = 'Max % of negative seller ratings - last 90 days'\n",
    "df_processed[var].describe()"
   ]
  },
  {
   "cell_type": "code",
   "execution_count": 196,
   "metadata": {},
   "outputs": [
    {
     "data": {
      "text/plain": [
       "count    1839.000000\n",
       "mean       12.312670\n",
       "std        23.435871\n",
       "min         0.000000\n",
       "25%         0.000000\n",
       "50%         0.000000\n",
       "75%        14.000000\n",
       "max       100.000000\n",
       "Name: Max % of negative seller ratings - last 12 months, dtype: float64"
      ]
     },
     "execution_count": 196,
     "metadata": {},
     "output_type": "execute_result"
    }
   ],
   "source": [
    "var = 'Max % of negative seller ratings - last 12 months'\n",
    "df_processed[var].describe()"
   ]
  },
  {
   "cell_type": "code",
   "execution_count": null,
   "metadata": {},
   "outputs": [],
   "source": [
    "# Seller feedback has to do with a buyer’s experience of the seller, such as with issues like:\n",
    "\n",
    "# How quickly and thoroughly the seller answered questions about the product.\n",
    "# What the shipping process was like, i.e. did it arrive by the expected delivery date, was the item well-packaged, what was the customer support like and how (or how fast) did the seller respond to concerns.\n",
    "# Product reviews, on the other hand, tend to do with things like:\n",
    "\n",
    "# The accuracy of the received product based on how it was described in the listing.\n",
    "# The quality or usability of the product.\n",
    "# Can be found on the product detail page.\n",
    "# In essence, feedback has to do with the seller, while a product review doesn’t and only concerns the product.\n",
    "\n",
    "#https://www.edesk.com/blog/seller-feedback-vs-product-reviews-on-amazon/\n",
    "#Considering people pay enough attention to this difference"
   ]
  },
  {
   "cell_type": "code",
   "execution_count": null,
   "metadata": {},
   "outputs": [],
   "source": [
    "###Looking at Razor's strategy\n",
    "###We want to be able to find based on the following:\n",
    "###1. Registered in US/DE\n",
    "###2. Decent volume and positive reviews\n",
    "###3. Medium sized player with growth potential to expand portfolio of brands/product line \n",
    "\n",
    "###1.#####.is straightforward, we'll put a flag for country\n",
    "\n",
    "###2.a.### Good volume -> We can infer this from the following metrics:\n",
    "# num_feedback_l12m\n",
    "# sellerratings_count_processed \n",
    "\n",
    "###2.b.### Positive feedback -> We can infer this from the following metrics:\n",
    "#Max % of negative seller ratings - last 30 days,last 90 days,last 12 months\n",
    "#Although these are weak metrics as they talk about the MAX negative ratings,\n",
    "# so there is chance of outliers\n",
    "#Better metric is sellerratings_perc_processed along with sellerratings_count_processed that helps establish confidence\n",
    "\n",
    "###3.a.### Size of player can be inferred from:\n",
    "#sellerproductcount_processed i.e. no. of products listed on Amazon\n",
    "#Count of seller brands   i.e. no. of brands whose products are listed\n",
    "\n",
    "###3.b.### Below metrics help in identifying the type of products seller is selling- niche or popular products\n",
    "# Hero Product 1 #ratings\n",
    "# Hero Product 2 #ratings\n",
    "\n",
    "#Combining these we can form a metric and do prioritization of best potential targets \n",
    "\n"
   ]
  },
  {
   "cell_type": "code",
   "execution_count": 199,
   "metadata": {},
   "outputs": [],
   "source": [
    "df_relevant = df_processed.copy()"
   ]
  },
  {
   "cell_type": "code",
   "execution_count": 200,
   "metadata": {},
   "outputs": [
    {
     "name": "stdout",
     "output_type": "stream",
     "text": [
      "<class 'pandas.core.frame.DataFrame'>\n",
      "RangeIndex: 1839 entries, 0 to 1838\n",
      "Data columns (total 24 columns):\n",
      " #   Column                                             Non-Null Count  Dtype         \n",
      "---  ------                                             --------------  -----         \n",
      " 0   Date Added                                         1839 non-null   datetime64[ns]\n",
      " 1   category                                           1839 non-null   object        \n",
      " 2   sellerlink                                         1839 non-null   object        \n",
      " 3   sellerlink-url                                     1839 non-null   object        \n",
      " 4   sellerstorefront-url                               1839 non-null   object        \n",
      " 5   sellerproductcount                                 1513 non-null   object        \n",
      " 6   sellerratings                                      1411 non-null   object        \n",
      " 7   sellerdetails                                      1812 non-null   object        \n",
      " 8   seller business name                               1783 non-null   object        \n",
      " 9   businessaddress                                    1764 non-null   object        \n",
      " 10  Count of seller brands                             1839 non-null   int64         \n",
      " 11  Max % of negative seller ratings - last 30 days    1839 non-null   int64         \n",
      " 12  Max % of negative seller ratings - last 90 days    1839 non-null   int64         \n",
      " 13  Max % of negative seller ratings - last 12 months  1839 non-null   int64         \n",
      " 14  Hero Product 1 #ratings                            1839 non-null   int64         \n",
      " 15  Hero Product 2 #ratings                            1839 non-null   int64         \n",
      " 16  Sample brand name                                  1835 non-null   object        \n",
      " 17  Sample Brand URL                                   1839 non-null   object        \n",
      " 18  sellerproductcount_processed                       1513 non-null   float64       \n",
      " 19  sellerratings_perc_processed                       1411 non-null   float64       \n",
      " 20  sellerratings_count_processed                      1411 non-null   float64       \n",
      " 21  sellerdetails_email_processed                      314 non-null    object        \n",
      " 22  businessaddress_processed                          1764 non-null   object        \n",
      " 23  num_feedback_l12m                                  1839 non-null   object        \n",
      "dtypes: datetime64[ns](1), float64(3), int64(6), object(14)\n",
      "memory usage: 344.9+ KB\n"
     ]
    }
   ],
   "source": [
    "df_relevant.info()"
   ]
  },
  {
   "cell_type": "code",
   "execution_count": 201,
   "metadata": {},
   "outputs": [],
   "source": [
    "df_relevant['flag_country'] = np.where(df_relevant['businessaddress_processed'].isin(['US',\"DE\"]),1,0)"
   ]
  },
  {
   "cell_type": "code",
   "execution_count": 202,
   "metadata": {},
   "outputs": [
    {
     "data": {
      "text/plain": [
       "378"
      ]
     },
     "execution_count": 202,
     "metadata": {},
     "output_type": "execute_result"
    }
   ],
   "source": [
    "sum(df_relevant['flag_country'])"
   ]
  },
  {
   "cell_type": "code",
   "execution_count": 205,
   "metadata": {},
   "outputs": [],
   "source": [
    "df_relevant = df_relevant.loc[df_relevant['flag_country']==1]"
   ]
  },
  {
   "cell_type": "code",
   "execution_count": 206,
   "metadata": {},
   "outputs": [
    {
     "data": {
      "text/plain": [
       "(378, 25)"
      ]
     },
     "execution_count": 206,
     "metadata": {},
     "output_type": "execute_result"
    }
   ],
   "source": [
    "#That leaves us with 378 sellers\n",
    "df_relevant.shape"
   ]
  },
  {
   "cell_type": "code",
   "execution_count": 207,
   "metadata": {},
   "outputs": [
    {
     "data": {
      "text/html": [
       "<div>\n",
       "<style scoped>\n",
       "    .dataframe tbody tr th:only-of-type {\n",
       "        vertical-align: middle;\n",
       "    }\n",
       "\n",
       "    .dataframe tbody tr th {\n",
       "        vertical-align: top;\n",
       "    }\n",
       "\n",
       "    .dataframe thead th {\n",
       "        text-align: right;\n",
       "    }\n",
       "</style>\n",
       "<table border=\"1\" class=\"dataframe\">\n",
       "  <thead>\n",
       "    <tr style=\"text-align: right;\">\n",
       "      <th></th>\n",
       "      <th>count</th>\n",
       "      <th>mean</th>\n",
       "      <th>std</th>\n",
       "      <th>min</th>\n",
       "      <th>25%</th>\n",
       "      <th>50%</th>\n",
       "      <th>75%</th>\n",
       "      <th>max</th>\n",
       "    </tr>\n",
       "    <tr>\n",
       "      <th>businessaddress_processed</th>\n",
       "      <th></th>\n",
       "      <th></th>\n",
       "      <th></th>\n",
       "      <th></th>\n",
       "      <th></th>\n",
       "      <th></th>\n",
       "      <th></th>\n",
       "      <th></th>\n",
       "    </tr>\n",
       "  </thead>\n",
       "  <tbody>\n",
       "    <tr>\n",
       "      <th>DE</th>\n",
       "      <td>362.0</td>\n",
       "      <td>638.245856</td>\n",
       "      <td>2202.530731</td>\n",
       "      <td>1.0</td>\n",
       "      <td>50.00</td>\n",
       "      <td>165.0</td>\n",
       "      <td>489.75</td>\n",
       "      <td>37124.0</td>\n",
       "    </tr>\n",
       "    <tr>\n",
       "      <th>US</th>\n",
       "      <td>14.0</td>\n",
       "      <td>90.142857</td>\n",
       "      <td>93.188690</td>\n",
       "      <td>10.0</td>\n",
       "      <td>31.25</td>\n",
       "      <td>43.5</td>\n",
       "      <td>118.75</td>\n",
       "      <td>294.0</td>\n",
       "    </tr>\n",
       "  </tbody>\n",
       "</table>\n",
       "</div>"
      ],
      "text/plain": [
       "                           count        mean          std   min    25%    50%     75%      max\n",
       "businessaddress_processed                                                                     \n",
       "DE                         362.0  638.245856  2202.530731   1.0  50.00  165.0  489.75  37124.0\n",
       "US                          14.0   90.142857    93.188690  10.0  31.25   43.5  118.75    294.0"
      ]
     },
     "execution_count": 207,
     "metadata": {},
     "output_type": "execute_result"
    }
   ],
   "source": [
    "df_relevant.groupby('businessaddress_processed')['sellerratings_count_processed'].describe()"
   ]
  },
  {
   "cell_type": "code",
   "execution_count": null,
   "metadata": {},
   "outputs": [],
   "source": [
    "#Most of the players are from DE, and number of ratings are starkly different\n",
    "#We'll flag #ratings between 50 and 75 percentile for DE and US separately to ensure decent volume and room to grow "
   ]
  },
  {
   "cell_type": "code",
   "execution_count": 208,
   "metadata": {},
   "outputs": [],
   "source": [
    "df_relevant['flag_volume'] = np.where(df_relevant['businessaddress_processed']=='DE',(df_relevant['sellerratings_count_processed']>165)&(df_relevant['sellerratings_count_processed']<489),\n",
    "(df_relevant['sellerratings_count_processed']>43)&(df_relevant['sellerratings_count_processed']<118))"
   ]
  },
  {
   "cell_type": "code",
   "execution_count": 209,
   "metadata": {},
   "outputs": [
    {
     "data": {
      "text/plain": [
       "91"
      ]
     },
     "execution_count": 209,
     "metadata": {},
     "output_type": "execute_result"
    }
   ],
   "source": [
    "df_relevant['flag_volume'].sum()"
   ]
  },
  {
   "cell_type": "code",
   "execution_count": 210,
   "metadata": {},
   "outputs": [
    {
     "data": {
      "text/html": [
       "<div>\n",
       "<style scoped>\n",
       "    .dataframe tbody tr th:only-of-type {\n",
       "        vertical-align: middle;\n",
       "    }\n",
       "\n",
       "    .dataframe tbody tr th {\n",
       "        vertical-align: top;\n",
       "    }\n",
       "\n",
       "    .dataframe thead th {\n",
       "        text-align: right;\n",
       "    }\n",
       "</style>\n",
       "<table border=\"1\" class=\"dataframe\">\n",
       "  <thead>\n",
       "    <tr style=\"text-align: right;\">\n",
       "      <th></th>\n",
       "      <th>count</th>\n",
       "      <th>mean</th>\n",
       "      <th>std</th>\n",
       "      <th>min</th>\n",
       "      <th>25%</th>\n",
       "      <th>50%</th>\n",
       "      <th>75%</th>\n",
       "      <th>max</th>\n",
       "    </tr>\n",
       "    <tr>\n",
       "      <th>businessaddress_processed</th>\n",
       "      <th></th>\n",
       "      <th></th>\n",
       "      <th></th>\n",
       "      <th></th>\n",
       "      <th></th>\n",
       "      <th></th>\n",
       "      <th></th>\n",
       "      <th></th>\n",
       "    </tr>\n",
       "  </thead>\n",
       "  <tbody>\n",
       "    <tr>\n",
       "      <th>DE</th>\n",
       "      <td>362.0</td>\n",
       "      <td>638.245856</td>\n",
       "      <td>2202.530731</td>\n",
       "      <td>1.0</td>\n",
       "      <td>50.00</td>\n",
       "      <td>165.0</td>\n",
       "      <td>489.75</td>\n",
       "      <td>37124.0</td>\n",
       "    </tr>\n",
       "    <tr>\n",
       "      <th>US</th>\n",
       "      <td>14.0</td>\n",
       "      <td>90.142857</td>\n",
       "      <td>93.188690</td>\n",
       "      <td>10.0</td>\n",
       "      <td>31.25</td>\n",
       "      <td>43.5</td>\n",
       "      <td>118.75</td>\n",
       "      <td>294.0</td>\n",
       "    </tr>\n",
       "  </tbody>\n",
       "</table>\n",
       "</div>"
      ],
      "text/plain": [
       "                           count        mean          std   min    25%    50%     75%      max\n",
       "businessaddress_processed                                                                     \n",
       "DE                         362.0  638.245856  2202.530731   1.0  50.00  165.0  489.75  37124.0\n",
       "US                          14.0   90.142857    93.188690  10.0  31.25   43.5  118.75    294.0"
      ]
     },
     "execution_count": 210,
     "metadata": {},
     "output_type": "execute_result"
    }
   ],
   "source": [
    "df_relevant.groupby('businessaddress_processed')['sellerratings_count_processed'].describe()"
   ]
  },
  {
   "cell_type": "code",
   "execution_count": null,
   "metadata": {},
   "outputs": [],
   "source": [
    "#We have 30 ratings for 75% of the sellers which can be banked upon, we would have liked more, but for now let's take ratings for only these sellers to be reliable\n"
   ]
  },
  {
   "cell_type": "code",
   "execution_count": 212,
   "metadata": {},
   "outputs": [
    {
     "data": {
      "text/plain": [
       "(308, 26)"
      ]
     },
     "execution_count": 212,
     "metadata": {},
     "output_type": "execute_result"
    }
   ],
   "source": [
    "df_relevant.loc[df_relevant['sellerratings_count_processed']>=30].shape"
   ]
  },
  {
   "cell_type": "code",
   "execution_count": 213,
   "metadata": {},
   "outputs": [
    {
     "data": {
      "text/html": [
       "<div>\n",
       "<style scoped>\n",
       "    .dataframe tbody tr th:only-of-type {\n",
       "        vertical-align: middle;\n",
       "    }\n",
       "\n",
       "    .dataframe tbody tr th {\n",
       "        vertical-align: top;\n",
       "    }\n",
       "\n",
       "    .dataframe thead th {\n",
       "        text-align: right;\n",
       "    }\n",
       "</style>\n",
       "<table border=\"1\" class=\"dataframe\">\n",
       "  <thead>\n",
       "    <tr style=\"text-align: right;\">\n",
       "      <th></th>\n",
       "      <th>count</th>\n",
       "      <th>mean</th>\n",
       "      <th>std</th>\n",
       "      <th>min</th>\n",
       "      <th>25%</th>\n",
       "      <th>50%</th>\n",
       "      <th>75%</th>\n",
       "      <th>max</th>\n",
       "    </tr>\n",
       "    <tr>\n",
       "      <th>businessaddress_processed</th>\n",
       "      <th></th>\n",
       "      <th></th>\n",
       "      <th></th>\n",
       "      <th></th>\n",
       "      <th></th>\n",
       "      <th></th>\n",
       "      <th></th>\n",
       "      <th></th>\n",
       "    </tr>\n",
       "  </thead>\n",
       "  <tbody>\n",
       "    <tr>\n",
       "      <th>DE</th>\n",
       "      <td>298.0</td>\n",
       "      <td>94.208054</td>\n",
       "      <td>4.94042</td>\n",
       "      <td>70.0</td>\n",
       "      <td>92.0</td>\n",
       "      <td>95.5</td>\n",
       "      <td>97.00</td>\n",
       "      <td>100.0</td>\n",
       "    </tr>\n",
       "    <tr>\n",
       "      <th>US</th>\n",
       "      <td>10.0</td>\n",
       "      <td>86.900000</td>\n",
       "      <td>4.45845</td>\n",
       "      <td>79.0</td>\n",
       "      <td>85.0</td>\n",
       "      <td>87.0</td>\n",
       "      <td>90.25</td>\n",
       "      <td>94.0</td>\n",
       "    </tr>\n",
       "  </tbody>\n",
       "</table>\n",
       "</div>"
      ],
      "text/plain": [
       "                           count       mean      std   min   25%   50%    75%    max\n",
       "businessaddress_processed                                                           \n",
       "DE                         298.0  94.208054  4.94042  70.0  92.0  95.5  97.00  100.0\n",
       "US                          10.0  86.900000  4.45845  79.0  85.0  87.0  90.25   94.0"
      ]
     },
     "execution_count": 213,
     "metadata": {},
     "output_type": "execute_result"
    }
   ],
   "source": [
    "df_relevant.loc[df_relevant['sellerratings_count_processed']>=30].groupby('businessaddress_processed')['sellerratings_perc_processed'].describe()"
   ]
  },
  {
   "cell_type": "code",
   "execution_count": 214,
   "metadata": {},
   "outputs": [],
   "source": [
    "#Although the mean itself is high in both - 84% and 94% positive ratings \n",
    "# are both pretty good- albeit 84% is slightly lower, to be more targetted and stringent\n",
    "# let's take the 50-75 percentile i.e. around 90%-95%\n",
    "df_relevant['flag_positive_rating'] = np.where((df_relevant['sellerratings_count_processed']>=30) & (df_relevant['sellerratings_perc_processed']>=92),1,0) \n",
    "\n"
   ]
  },
  {
   "cell_type": "code",
   "execution_count": 217,
   "metadata": {},
   "outputs": [
    {
     "data": {
      "text/plain": [
       "(378, 27)"
      ]
     },
     "execution_count": 217,
     "metadata": {},
     "output_type": "execute_result"
    }
   ],
   "source": [
    "df_relevant.shape"
   ]
  },
  {
   "cell_type": "code",
   "execution_count": 216,
   "metadata": {},
   "outputs": [
    {
     "data": {
      "text/plain": [
       "count       316.000000\n",
       "mean       6097.075949\n",
       "std       17190.551377\n",
       "min           5.000000\n",
       "25%         226.750000\n",
       "50%         832.500000\n",
       "75%        3000.000000\n",
       "max      100000.000000\n",
       "Name: sellerproductcount_processed, dtype: float64"
      ]
     },
     "execution_count": 216,
     "metadata": {},
     "output_type": "execute_result"
    }
   ],
   "source": [
    "df_relevant['sellerproductcount_processed'].describe()"
   ]
  },
  {
   "cell_type": "code",
   "execution_count": null,
   "metadata": {},
   "outputs": [],
   "source": [
    "#sellerproductcount_processed i.e. no. of products listed on Amazon\n",
    "#Count of seller brands   i.e. no. of brands whose products are listed\n"
   ]
  },
  {
   "cell_type": "code",
   "execution_count": 218,
   "metadata": {},
   "outputs": [
    {
     "data": {
      "text/plain": [
       "count    378.000000\n",
       "mean      10.227513\n",
       "std        6.533414\n",
       "min        0.000000\n",
       "25%        2.000000\n",
       "50%       14.000000\n",
       "75%       16.000000\n",
       "max       16.000000\n",
       "Name: Count of seller brands, dtype: float64"
      ]
     },
     "execution_count": 218,
     "metadata": {},
     "output_type": "execute_result"
    }
   ],
   "source": [
    "df_relevant['Count of seller brands'].describe()"
   ]
  },
  {
   "cell_type": "code",
   "execution_count": 220,
   "metadata": {},
   "outputs": [],
   "source": [
    "df_relevant['flag_mid_size'] = np.where((df_relevant['sellerproductcount_processed']>800)&(df_relevant['sellerproductcount_processed']<3000)|(df_relevant['Count of seller brands']>10)&(df_relevant['Count of seller brands']<15),1,0)"
   ]
  },
  {
   "cell_type": "code",
   "execution_count": 221,
   "metadata": {},
   "outputs": [
    {
     "data": {
      "text/plain": [
       "122"
      ]
     },
     "execution_count": 221,
     "metadata": {},
     "output_type": "execute_result"
    }
   ],
   "source": [
    "df_relevant['flag_mid_size'].sum()"
   ]
  },
  {
   "cell_type": "code",
   "execution_count": 222,
   "metadata": {},
   "outputs": [
    {
     "data": {
      "text/plain": [
       "(378, 28)"
      ]
     },
     "execution_count": 222,
     "metadata": {},
     "output_type": "execute_result"
    }
   ],
   "source": [
    "df_relevant.shape"
   ]
  },
  {
   "cell_type": "code",
   "execution_count": 223,
   "metadata": {},
   "outputs": [],
   "source": [
    "df_relevant['Score'] = df_relevant['flag_volume'] + df_relevant['flag_positive_rating'] + df_relevant['flag_mid_size']\n"
   ]
  },
  {
   "cell_type": "code",
   "execution_count": 224,
   "metadata": {},
   "outputs": [],
   "source": [
    "df_relevant.to_excel('Target List with Contacts- Score.xlsx')\n",
    "#Here the ones with highest score are Priority 1 to be targetted  "
   ]
  }
 ],
 "metadata": {
  "interpreter": {
   "hash": "7e98c5b526ca6475ebd551b63cd17d7592f842afb2cb57954ad2c78c6684431c"
  },
  "kernelspec": {
   "display_name": "Python 3.9.12 ('razor')",
   "language": "python",
   "name": "python3"
  },
  "language_info": {
   "codemirror_mode": {
    "name": "ipython",
    "version": 3
   },
   "file_extension": ".py",
   "mimetype": "text/x-python",
   "name": "python",
   "nbconvert_exporter": "python",
   "pygments_lexer": "ipython3",
   "version": "3.9.7"
  },
  "orig_nbformat": 4
 },
 "nbformat": 4,
 "nbformat_minor": 2
}
